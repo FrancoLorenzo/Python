{
 "cells": [
  {
   "cell_type": "markdown",
   "metadata": {},
   "source": [
    "# Examen Final - Franco Lorenzo"
   ]
  },
  {
   "cell_type": "markdown",
   "metadata": {},
   "source": [
    "### 1. Escribir un programa que almacene la cadena de caracteres contraseña en una variable, pregunte al usuario por la contraseña e imprima por pantalla si la contraseña introducida por el usuario coincide con la guardada en la variable  sin tener en cuenta mayúsculas y minúsculas (10 pts).\n"
   ]
  },
  {
   "cell_type": "code",
   "execution_count": 220,
   "metadata": {},
   "outputs": [
    {
     "name": "stdout",
     "output_type": "stream",
     "text": [
      "Usted eligió no continuar, se cierra el programa.\n"
     ]
    }
   ],
   "source": [
    "from getpass import getpass\n",
    "import os\n",
    "\n",
    "# La funcion password recibe la contraseña del usuario y valida con el usuario si desea guardar la contraseña.\n",
    "def password():\n",
    "    password = input(\"Introduzca su contraseña: \")\n",
    "    caracteresPermitodos = \"sn\"\n",
    "    continuar = (input(\"¿Desea guardar la contraseña?: S / N \")).lower()\n",
    "    while(len(continuar) != 1 or continuar not in caracteresPermitodos):\n",
    "        continuar = (input(\"¿Desea guardar la contraseña?: S / N \")).lower()\n",
    "    if continuar == \"s\":\n",
    "        return password\n",
    "    elif continuar == \"n\":\n",
    "        print(\"Usted eligió no continuar, se cierra el programa.\")\n",
    "        return \"Usted eligió no continuar, se cierra el programa.\"\n",
    "        \n",
    "# La funcion validadPassword recibe la contraseña del usuario y valida si la contraseña coincide con la contraseña original.\n",
    "def validadPassword(password):\n",
    "    passwordValidacion = (getpass(\"Por favor ingrese su contraseña: \")).lower()\n",
    "    return (password).lower() == passwordValidacion\n",
    "\n",
    "password = password()\n",
    "if password != \"Usted eligió no continuar, se cierra el programa.\":\n",
    "\n",
    "    validacion = validadPassword(password)\n",
    "\n",
    "    # El ciclo while se repite si la contraseña que ingresar el usuario la segunda vez no es correcta.\n",
    "    while validacion == False:\n",
    "        print(\"Su contraseña no es válida.\")\n",
    "        validacion = validadPassword(password)\n",
    "\n",
    "    # Si la validación de contraseñas es correcta. Se le indica la contraseña al usuario por pantalla.\n",
    "    if validacion == True:\n",
    "        print(f\"Usted ha ingresado satisfactoriamente! Su contraseña es: {password}\")"
   ]
  },
  {
   "cell_type": "markdown",
   "metadata": {},
   "source": [
    "### 2. Escribir un programa que pida al usuario que introduzca una frase en la consola y muestre por pantalla la frase invertida (10 pts)."
   ]
  },
  {
   "cell_type": "code",
   "execution_count": 221,
   "metadata": {},
   "outputs": [
    {
     "name": "stdout",
     "output_type": "stream",
     "text": [
      "Su frase es: Hola Mundo!\n",
      "Su frase invertida es: !odnuM aloH\n"
     ]
    }
   ],
   "source": [
    "# Las siguientes líneas solicitan una frase al usuario y luego se invierte su orden.\n",
    "frase = input(\"Introduzca una frase: \")\n",
    "fraseInvertida = frase[::-1]\n",
    "print(f\"Su frase es: {frase}\")\n",
    "print(f\"Su frase invertida es: {fraseInvertida}\")"
   ]
  },
  {
   "cell_type": "markdown",
   "metadata": {},
   "source": [
    "### 3. Los alumnos de un curso se han dividido en dos grupos A y B de acuerdo con el sexo y el nombre. El grupo A está formado por las mujeres con un nombre anterior a la M y los hombres con un nombre posterior a la N y el grupo B por el resto. Escribir un programa que pregunte al usuario su nombre y sexo, y muestre por pantalla el grupo que le corresponde (10 pts)."
   ]
  },
  {
   "cell_type": "code",
   "execution_count": 222,
   "metadata": {},
   "outputs": [
    {
     "name": "stdout",
     "output_type": "stream",
     "text": [
      "Hola Franco. Su sexo es M. Usted pertence al Grupo B\n",
      "Hola Ana. Su sexo es F. Usted pertence al Grupo A\n",
      "Hola Pedro. Su sexo es M. Usted pertence al Grupo A\n",
      "Hola Maria. Su sexo es F. Usted pertence al Grupo B\n"
     ]
    }
   ],
   "source": [
    "import re\n",
    "\n",
    "# La siguiente función recibe los parametros de nombre y sexo para calcular el grupo correcto.\n",
    "def clasificador(nom, sex):\n",
    "    nombre = (nom[:1]).lower()\n",
    "    sexo = (sex).lower()\n",
    "\n",
    "    abc = \"abcdefghijklmnopqrstuvwxyz\"\n",
    "\n",
    "    if sexo == \"f\" and nombre in re.findall(\"[a-l]\", abc):\n",
    "        print(f\"Hola {nom}. Su sexo es {sex}. Usted pertence al Grupo A\")\n",
    "    elif sexo == \"f\" and nombre not in re.findall(\"[a-l]\", abc):\n",
    "        print(f\"Hola {nom}. Su sexo es {sex}. Usted pertence al Grupo B\")\n",
    "    \n",
    "    if sexo == \"m\" and nombre in re.findall(\"[o-z]\", abc):\n",
    "        print(f\"Hola {nom}. Su sexo es {sex}. Usted pertence al Grupo A\")\n",
    "    elif sexo == \"m\" and nombre not in re.findall(\"[o-z]\", abc):\n",
    "        print(f\"Hola {nom}. Su sexo es {sex}. Usted pertence al Grupo B\")\n",
    "\n",
    "nombre = input (\"Por favor ingrese su nombre: \")\n",
    "caracteresPermitodos2 = \"mfMF\"\n",
    "sexo = input(\"Por favor ingrese la letra de su sexo: M / F \")\n",
    "while(len(sexo) != 1 or sexo not in caracteresPermitodos2):\n",
    "    sexo = input(\"Por favor ingrese la letra de su sexo: M / F \")\n",
    "\n",
    "alumnos = {\n",
    "  \"Ana\": \"F\",\n",
    "  \"Pedro\": \"M\",\n",
    "  \"Maria\": \"F\",\n",
    "}\n",
    "\n",
    "clasificador(nombre, sexo)\n",
    "\n",
    "for x in alumnos:\n",
    "    clasificador(str(x), str(alumnos[x]))"
   ]
  },
  {
   "cell_type": "markdown",
   "metadata": {},
   "source": [
    "### 4. Escribir un programa que pida al usuario un número entero y muestre por pantalla un triángulo rectángulo como el de más abajo, de altura el número introducido (10 pts).\n"
   ]
  },
  {
   "cell_type": "code",
   "execution_count": 223,
   "metadata": {},
   "outputs": [
    {
     "name": "stdout",
     "output_type": "stream",
     "text": [
      "*     \n",
      "**    \n",
      "***   \n",
      "****  \n",
      "***** \n"
     ]
    }
   ],
   "source": [
    "# Solicitar la altura del triángulo e imprimir los * correspondientes.\n",
    "altura = int(input(\"Ingrese la altura del triángulo: \"))\n",
    "\n",
    "for i in range( altura,0,-1 ):\n",
    "    print(( altura + 1 - i ) * '*' + i* ' ')"
   ]
  },
  {
   "cell_type": "markdown",
   "metadata": {},
   "source": [
    "### 5. Escribir un programa que pregunte al usuario los números ganadores de la lotería, los almacene en una lista y los muestre por pantalla ordenados de menor a mayor (10 pts)."
   ]
  },
  {
   "cell_type": "code",
   "execution_count": 224,
   "metadata": {},
   "outputs": [
    {
     "name": "stdout",
     "output_type": "stream",
     "text": [
      " La lista de ganadores de la lotería ordenanda de menor a mayor es: [13, 21, 55]\n"
     ]
    }
   ],
   "source": [
    "# Solicitar los primero tres números ganadores de la lotería\n",
    "# Validar que la información sean números enteros\n",
    "while True:\n",
    "  try:\n",
    "    primerPremio = int(input(\"Ingrese el número del primer premio de la lotería: \"))\n",
    "    segundoPremio = int(input(\"Ingrese el número del segundo premio de la lotería: \"))\n",
    "    tercerPremio = int(input(\"Ingrese el número del tercer premio de la lotería: \"))\n",
    "    break\n",
    "  except ValueError:\n",
    "      print(\"Valor incorrecto. Por favor ingresar un número entero.\")  \n",
    "      continue\n",
    "\n",
    "# Incluir los números ganadores en una lista y ordernarla de menor a mayor\n",
    "numerosGanadores = [ primerPremio, segundoPremio, tercerPremio ]\n",
    "listaOrdenada = sorted(numerosGanadores)\n",
    "\n",
    "print(f\" La lista de ganadores de la lotería ordenanda de menor a mayor es: {listaOrdenada}\")\n"
   ]
  },
  {
   "cell_type": "markdown",
   "metadata": {},
   "source": [
    "### 6. Escribir una función que calcule el total de una factura tras aplicarle el IVA. La función debe recibir la cantidad sin IVA y el porcentaje de IVA a aplicar, y devolver el total de la factura. Si se invoca la función sin pasarle el porcentaje de IVA, deberá aplicar un 21% (10 pts)."
   ]
  },
  {
   "cell_type": "code",
   "execution_count": 225,
   "metadata": {},
   "outputs": [
    {
     "name": "stdout",
     "output_type": "stream",
     "text": [
      "El costo del producto es: 100.0\n",
      "El costo total de la factura con el 13% de IVA es: 113.0\n",
      "El costo total de la factura sin IVA se le aplica un 21%, el costo de la factura es: 121.0\n"
     ]
    }
   ],
   "source": [
    "# La siguiente función recibe dos parametros, el costo del producto y el valor del IVA a aplicar\n",
    "def costoFactura(costoProducto, iva):\n",
    "    costoFactura = costoProducto + (costoProducto * iva)\n",
    "    return costoFactura\n",
    "\n",
    "# El ciclo se asegura de solo recibir numeros flotantes\n",
    "while True:\n",
    "  try:\n",
    "    costoProducto = float(input(\"Ingrese el costo del producto a comprar: \"))\n",
    "    break\n",
    "  except ValueError:\n",
    "      print(\"Valor incorrecto. Por favor ingresar un número entero.\")  \n",
    "      continue\n",
    "\n",
    "iva = 0.13\n",
    "costoIVA = costoFactura(costoProducto, iva)\n",
    "costoSinIVA = costoFactura(costoProducto, 0.21)\n",
    "\n",
    "print(f\"El costo del producto es: {costoProducto}\")\n",
    "print(f\"El costo total de la factura con el 13% de IVA es: {costoIVA}\")\n",
    "print(f\"El costo total de la factura sin IVA se le aplica un 21%, el costo de la factura es: {costoSinIVA}\")"
   ]
  },
  {
   "cell_type": "markdown",
   "metadata": {},
   "source": [
    "### 7. Escribir un programa que acceda a un fichero de internet mediante su url y muestre por pantalla el número de palabras que contiene (10 pts)."
   ]
  },
  {
   "cell_type": "code",
   "execution_count": 226,
   "metadata": {},
   "outputs": [
    {
     "name": "stdout",
     "output_type": "stream",
     "text": [
      "////////////////////     URL                ////////////////////\n",
      "\n",
      "http://www.pythonscraping.com/pages/page1.html\n",
      "\n",
      "////////////////////     Texto Original     ////////////////////\n",
      "\n",
      "Lorem ipsum dolor sit amet, consectetur adipisicing elit, sed do eiusmod tempor incididunt ut labore et dolore magna aliqua. Ut enim ad minim veniam, quis nostrud exercitation ullamco laboris nisi ut aliquip ex ea commodo consequat. Duis aute irure dolor in rep\n",
      "\n",
      "////////////////////     Desgloce de palabras  ////////////////////\n",
      "\n",
      "Counter({'dolor': 2, 'ut': 2, 'Lorem': 1, 'ipsum': 1, 'sit': 1, 'amet,': 1, 'consectetur': 1, 'adipisicing': 1, 'elit,': 1, 'sed': 1, 'do': 1, 'eiusmod': 1, 'tempor': 1, 'incididunt': 1, 'labore': 1, 'et': 1, 'dolore': 1, 'magna': 1, 'aliqua.': 1, 'Ut': 1, 'enim': 1, 'ad': 1, 'minim': 1, 'veniam,': 1, 'quis': 1, 'nostrud': 1, 'exercitation': 1, 'ullamco': 1, 'laboris': 1, 'nisi': 1, 'aliquip': 1, 'ex': 1, 'ea': 1, 'commodo': 1, 'consequat.': 1, 'Duis': 1, 'aute': 1, 'irure': 1, 'in': 1, 'rep': 1})\n",
      "\n",
      "////////////////////     Total de palabras  ////////////////////\n",
      "\n",
      "El fichero de internet contiene 42 palabras en total.\n",
      "\n",
      "////////////////////////////////////////////////////////////////\n"
     ]
    }
   ],
   "source": [
    "# !pip install beautifulsoup4\n",
    "from urllib.request import urlopen\n",
    "from bs4 import BeautifulSoup\n",
    "from collections import Counter\n",
    "\n",
    "# Accessar al fichero de internet\n",
    "html = urlopen('http://www.pythonscraping.com/pages/page1.html')\n",
    "\n",
    "# Leer el contenido de la URL, transformarlo en una lista, eliminar las etiquetas de HTML, y convertir la lista en un string.\n",
    "bs = BeautifulSoup(html.read(), 'html.parser')\n",
    "texto = str(bs.div)[ 5 : len(texto) - 3 ]\n",
    "\n",
    "# Separar el string por sus espacios y convertir el string en un diccionario para realizar el conteo de palabras\n",
    "palabras = texto.split()\n",
    "contador = Counter(palabras)\n",
    "\n",
    "# Realizar el conteo de palabras con un ciclo for\n",
    "totalPalabras = 0\n",
    "\n",
    "for i in contador:\n",
    "    totalPalabras = totalPalabras + contador[i]\n",
    "\n",
    "print(\"////////////////////     URL                ////////////////////\")\n",
    "print()\n",
    "print('http://www.pythonscraping.com/pages/page1.html')\n",
    "print()\n",
    "print(\"////////////////////     Texto Original     ////////////////////\")\n",
    "print(texto)\n",
    "print()\n",
    "print(\"////////////////////     Desgloce de palabras  ////////////////////\")\n",
    "print()\n",
    "print(contador)\n",
    "print()\n",
    "print(\"////////////////////     Total de palabras  ////////////////////\")\n",
    "print()\n",
    "print(f\"El fichero de internet contiene {totalPalabras} palabras en total.\")\n",
    "print()\n",
    "print(\"////////////////////////////////////////////////////////////////\")"
   ]
  },
  {
   "cell_type": "markdown",
   "metadata": {},
   "source": [
    "### 8. Cree el siguiente programa mediante POO. Crear una clase llamada Cuenta que tendrá los siguientes atributos: titular (que es una persona) y cantidad (puede tener decimales). Construir los siguientes métodos para la clase (30 pts):\n",
    "    a. Un constructor.\n",
    "    b. Los métodos set_titular, get_titular, set_cantidad, get_cantidad donde se asignen los atributos iniciales. Los métodos get deben retornar los atributos correspondientes.\n",
    "    c. El método mostrar, que debe imprimir todos los datos de la cuenta.\n",
    "    d. El método Ingresar(cantidad), debe ingresar cantidades a la cuenta del usuario. Se debe validar que, si el monto ingresado es negativo, se debe mostrar un mensaje de error al usuario. Si el monto es positivo, se debe sumar a la cuenta del usuario.\n",
    "    e. El método retirar(cantidad), debe hacer retiros a la cuenta del titular. Se debe validar si la cuenta tiene el saldo para hacer el retiro, en caso de tenerlo aplique la transacción. En caso de que el saldo no de para el monto de la transacción, se debe enviar un mensaje de error al usuario."
   ]
  },
  {
   "cell_type": "code",
   "execution_count": 227,
   "metadata": {},
   "outputs": [
    {
     "name": "stdout",
     "output_type": "stream",
     "text": [
      "Franco es el titular de la cuenta. La cuenta posee un balance de: 0\n",
      "Usted esta ingresando la cantidad: -1000\n",
      "-----------------------------------------------------------\n",
      "La cantidad ingresada no es válida.\n",
      "-----------------------------------------------------------\n",
      "Franco es el titular de la cuenta. La cuenta posee un balance de: 0\n",
      "Usted esta ingresando la cantidad: 50000\n",
      "-----------------------------------------------------------\n",
      "La cantidad: 50000 se ingresó satisfactoriamente.\n",
      "-----------------------------------------------------------\n",
      "Franco es el titular de la cuenta. La cuenta posee un balance de: 50000\n",
      "Usted esta retirando la cantidad: -1000\n",
      "-----------------------------------------------------------\n",
      "La cantidad a retirar no es válida.\n",
      "-----------------------------------------------------------\n",
      "Franco es el titular de la cuenta. La cuenta posee un balance de: 50000\n",
      "Usted esta retirando la cantidad: 50000\n",
      "-----------------------------------------------------------\n",
      "La cantidad: 50000 se retiró satisfactoriamente.\n",
      "-----------------------------------------------------------\n",
      "Franco es el titular de la cuenta. La cuenta posee un balance de: 0\n"
     ]
    }
   ],
   "source": [
    "class cuenta():\n",
    "    # Clase constructor que recibe el titular y la cantidad de la cuenta.\n",
    "    def __init__(self, titular, cantidad):\n",
    "        self.titular = titular\n",
    "        self.cantidad = cantidad\n",
    "    \n",
    "    def set_titular(self, titularI):\n",
    "        self.titular = titularI\n",
    "\n",
    "    def get_titular(self):\n",
    "        titularO = self.titular\n",
    "        return titularO\n",
    "\n",
    "    def set_cantidad(self, cantidadI):\n",
    "        self.cantidad = cantidadI\n",
    "\n",
    "    def get_cantidad(self):\n",
    "        cantidadO = self.cantidad\n",
    "        return cantidadO\n",
    "    \n",
    "    def mostrar(self):\n",
    "        print(f\"{self.titular} es el titular de la cuenta. La cuenta posee un balance de: {self.cantidad}\")\n",
    "    \n",
    "    # El método ingresar cantidad debe asegurarse de no ingresar cantidades negativas\n",
    "    def ingresar(self, cantidad):\n",
    "        print(f\"Usted esta ingresando la cantidad: {cantidad}\")\n",
    "\n",
    "        if cantidad < 0:\n",
    "            print(\"-----------------------------------------------------------\")\n",
    "            print(\"La cantidad ingresada no es válida.\")\n",
    "            print(\"-----------------------------------------------------------\")\n",
    "        else:\n",
    "            print(\"-----------------------------------------------------------\")\n",
    "            print(f\"La cantidad: {cantidad} se ingresó satisfactoriamente.\")\n",
    "            print(\"-----------------------------------------------------------\")\n",
    "            self.cantidad = self.cantidad + cantidad\n",
    "\n",
    "        return self.cantidad\n",
    "    \n",
    "    # El método retirar cantidad debe asegurarse de no retirar cantidades negativas ó cantidades que excedan el balance de la cuenta\n",
    "    def retirar(self, cantidad):\n",
    "        print(f\"Usted esta retirando la cantidad: {cantidad}\")\n",
    "\n",
    "        if cantidad < 0 or cantidad > self.cantidad:\n",
    "            print(\"-----------------------------------------------------------\")\n",
    "            print(\"La cantidad a retirar no es válida.\")\n",
    "            print(\"-----------------------------------------------------------\")\n",
    "        else:\n",
    "            self.cantidad = self.cantidad - cantidad\n",
    "            print(\"-----------------------------------------------------------\")\n",
    "            print(f\"La cantidad: {cantidad} se retiró satisfactoriamente.\")\n",
    "            print(\"-----------------------------------------------------------\")\n",
    "            \n",
    "        return self.cantidad\n",
    "\n",
    "cuenta = cuenta(\"Franco\", 0)\n",
    "cuenta.mostrar()\n",
    "\n",
    "cuenta.ingresar(-1000)\n",
    "cuenta.mostrar()\n",
    "cuenta.ingresar(50000)\n",
    "cuenta.mostrar()\n",
    "\n",
    "cuenta.retirar(-1000)\n",
    "cuenta.mostrar()\n",
    "cuenta.retirar(50000)\n",
    "cuenta.mostrar()\n"
   ]
  }
 ],
 "metadata": {
  "interpreter": {
   "hash": "bdd3a57b6cdf6db47e9f50f57b3e927b486ceba2df79490d0923cbea64e31dc7"
  },
  "kernelspec": {
   "display_name": "Python 3.10.0 64-bit",
   "language": "python",
   "name": "python3"
  },
  "language_info": {
   "codemirror_mode": {
    "name": "ipython",
    "version": 3
   },
   "file_extension": ".py",
   "mimetype": "text/x-python",
   "name": "python",
   "nbconvert_exporter": "python",
   "pygments_lexer": "ipython3",
   "version": "3.10.0"
  },
  "orig_nbformat": 4
 },
 "nbformat": 4,
 "nbformat_minor": 2
}
