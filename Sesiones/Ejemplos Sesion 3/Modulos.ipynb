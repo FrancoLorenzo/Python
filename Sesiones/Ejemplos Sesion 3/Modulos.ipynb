{
 "cells": [
  {
   "cell_type": "markdown",
   "id": "0773f353",
   "metadata": {},
   "source": [
    "# Modulos"
   ]
  },
  {
   "cell_type": "code",
   "execution_count": 1,
   "id": "a488fae1",
   "metadata": {},
   "outputs": [],
   "source": [
    "import Aritmetica"
   ]
  },
  {
   "cell_type": "code",
   "execution_count": 2,
   "id": "2f263e2d",
   "metadata": {},
   "outputs": [
    {
     "name": "stdout",
     "output_type": "stream",
     "text": [
      "12\n"
     ]
    }
   ],
   "source": [
    "print(Aritmetica.sumar(7, 5))"
   ]
  },
  {
   "cell_type": "code",
   "execution_count": 8,
   "id": "8f6d6722",
   "metadata": {},
   "outputs": [
    {
     "name": "stdout",
     "output_type": "stream",
     "text": [
      "2\n"
     ]
    }
   ],
   "source": [
    "print(Aritmetica.restar(7, 5))"
   ]
  },
  {
   "cell_type": "code",
   "execution_count": 9,
   "id": "8e27fa4a",
   "metadata": {},
   "outputs": [
    {
     "name": "stdout",
     "output_type": "stream",
     "text": [
      "35\n"
     ]
    }
   ],
   "source": [
    "print(Aritmetica.mult(7, 5))"
   ]
  },
  {
   "cell_type": "code",
   "execution_count": 10,
   "id": "21526551",
   "metadata": {},
   "outputs": [
    {
     "name": "stdout",
     "output_type": "stream",
     "text": [
      "1.4\n"
     ]
    }
   ],
   "source": [
    "print(Aritmetica.div(7, 5))"
   ]
  },
  {
   "cell_type": "markdown",
   "id": "c03d78a5",
   "metadata": {},
   "source": [
    "# Paquetes"
   ]
  },
  {
   "cell_type": "code",
   "execution_count": 14,
   "id": "30844cc8",
   "metadata": {},
   "outputs": [],
   "source": [
    "import Matematica.Aritmetica\n",
    "import Matematica.Geometria"
   ]
  },
  {
   "cell_type": "code",
   "execution_count": 13,
   "id": "e92240ad",
   "metadata": {},
   "outputs": [
    {
     "name": "stdout",
     "output_type": "stream",
     "text": [
      "25\n"
     ]
    }
   ],
   "source": [
    "print(Matematica.Aritmetica.sumar(20, 5))"
   ]
  },
  {
   "cell_type": "code",
   "execution_count": 16,
   "id": "ee00e6ee",
   "metadata": {},
   "outputs": [
    {
     "name": "stdout",
     "output_type": "stream",
     "text": [
      "El area del cuadrado es:  4\n",
      "None\n"
     ]
    }
   ],
   "source": [
    "print(Matematica.Geometria.cuadrado(2))"
   ]
  },
  {
   "cell_type": "code",
   "execution_count": 17,
   "id": "61e18a95",
   "metadata": {},
   "outputs": [
    {
     "name": "stdout",
     "output_type": "stream",
     "text": [
      "El area del circulo es:  12.566370614359172\n",
      "None\n"
     ]
    }
   ],
   "source": [
    "print(Matematica.Geometria.circulo(2))"
   ]
  }
 ],
 "metadata": {
  "interpreter": {
   "hash": "bdd3a57b6cdf6db47e9f50f57b3e927b486ceba2df79490d0923cbea64e31dc7"
  },
  "kernelspec": {
   "display_name": "Python 3.10.0 64-bit",
   "name": "python3"
  },
  "language_info": {
   "codemirror_mode": {
    "name": "ipython",
    "version": 3
   },
   "file_extension": ".py",
   "mimetype": "text/x-python",
   "name": "python",
   "nbconvert_exporter": "python",
   "pygments_lexer": "ipython3",
   "version": "3.10.0"
  }
 },
 "nbformat": 4,
 "nbformat_minor": 5
}
