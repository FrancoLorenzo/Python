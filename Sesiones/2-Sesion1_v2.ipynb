{
 "cells": [
  {
   "cell_type": "markdown",
   "id": "2129677c",
   "metadata": {},
   "source": [
    "# Introduccion a Python"
   ]
  },
  {
   "cell_type": "markdown",
   "id": "8a25310a",
   "metadata": {},
   "source": [
    "# Importacion de bibliotecas"
   ]
  },
  {
   "cell_type": "code",
   "execution_count": 3,
   "id": "b2d00d95",
   "metadata": {},
   "outputs": [],
   "source": [
    "#pip install numpy\n",
    "#pip install pandas\n",
    "import numpy as np\n",
    "import random\n",
    "import pandas as pd"
   ]
  },
  {
   "cell_type": "code",
   "execution_count": 4,
   "id": "52b735fd",
   "metadata": {},
   "outputs": [
    {
     "name": "stdout",
     "output_type": "stream",
     "text": [
      "1.21.3\n"
     ]
    }
   ],
   "source": [
    "print(np.__version__)"
   ]
  },
  {
   "cell_type": "code",
   "execution_count": 11,
   "id": "9a23dd85",
   "metadata": {},
   "outputs": [
    {
     "data": {
      "text/plain": [
       "[14, 18, 13, 10, 7, 3, 6, 16, 8, 12, 1, 4, 9, 2, 17]"
      ]
     },
     "execution_count": 11,
     "metadata": {},
     "output_type": "execute_result"
    }
   ],
   "source": [
    "lista = random.sample(range(0, 20), 15)\n",
    "lista"
   ]
  },
  {
   "cell_type": "markdown",
   "id": "ef4d0a94",
   "metadata": {},
   "source": [
    "# Funciones de Listas"
   ]
  },
  {
   "cell_type": "markdown",
   "id": "fdec5c42",
   "metadata": {},
   "source": [
    "- Append() -> Este método nos permite agregar nuevos elementos a una lista\n",
    "- Extend() -> Extend también nos permite agregar elementos dentro de una lista, pero a diferencia de append al momento de agregar una lista, cada elemento de esta lista se agrega como un elemento más dentro de la otra lista\n",
    "- Remove() -> El método remove va a remover un elemento que se le pase como parámentro de la lista a donde se le esté aplicando\n",
    "- Index() -> Devuelve el número de indice del elemento que le pasemos por parámetro\n",
    "- Count() -> Para saber cuántas veces un elemento de una lista se repite podemos utilizar este metodo\n",
    "- Reverse() -> También podemos invertir los elementos  de una lista\n",
    "- Type() -> Retorna el tipo de datos del objeto\n",
    "- Max() -> Retorna el item con el valor maximo de la lista\n",
    "- Min() -> Retorna el item con el valor minimo de la lista\n",
    "- Len() -> Retorna la longitud total de la lista\n",
    "- list(seq) -> Convierte una tupla en una lista"
   ]
  },
  {
   "cell_type": "code",
   "execution_count": 12,
   "id": "e3719b97",
   "metadata": {},
   "outputs": [
    {
     "data": {
      "text/plain": [
       "[1, 2, 3, 4, 5, 6, 7, 19, 20]"
      ]
     },
     "execution_count": 12,
     "metadata": {},
     "output_type": "execute_result"
    }
   ],
   "source": [
    "lista = [1, 2, 3, 4, 5, 6, 7 , 19, 20]\n",
    "lista"
   ]
  },
  {
   "cell_type": "code",
   "execution_count": 13,
   "id": "02d7a510",
   "metadata": {},
   "outputs": [
    {
     "data": {
      "text/plain": [
       "[1, 2, 3, 4, 5, 6, 7, 19, 20, 10]"
      ]
     },
     "execution_count": 13,
     "metadata": {},
     "output_type": "execute_result"
    }
   ],
   "source": [
    "lista.append(10)\n",
    "lista"
   ]
  },
  {
   "cell_type": "code",
   "execution_count": 14,
   "id": "d15a8771",
   "metadata": {},
   "outputs": [
    {
     "data": {
      "text/plain": [
       "[1, 2, 3, 4, 5, 6, 7, 19, 20, 10, 'a']"
      ]
     },
     "execution_count": 14,
     "metadata": {},
     "output_type": "execute_result"
    }
   ],
   "source": [
    "lista.append('a')\n",
    "lista"
   ]
  },
  {
   "cell_type": "code",
   "execution_count": 15,
   "id": "bb3ed67e",
   "metadata": {},
   "outputs": [
    {
     "data": {
      "text/plain": [
       "[1, 2, 3, 4, 5, 6, 7, 19, 20, 10, 'a', 1, 2]"
      ]
     },
     "execution_count": 15,
     "metadata": {},
     "output_type": "execute_result"
    }
   ],
   "source": [
    "lista.extend([1, 2])\n",
    "lista"
   ]
  },
  {
   "cell_type": "code",
   "execution_count": 17,
   "id": "0365aab7",
   "metadata": {},
   "outputs": [
    {
     "data": {
      "text/plain": [
       "[1, 2, 3, 4, 5, 6, 7, 19, 20, 1, 2]"
      ]
     },
     "execution_count": 17,
     "metadata": {},
     "output_type": "execute_result"
    }
   ],
   "source": [
    "lista.remove('a')\n",
    "lista"
   ]
  },
  {
   "cell_type": "code",
   "execution_count": 30,
   "id": "159a714a",
   "metadata": {},
   "outputs": [
    {
     "data": {
      "text/plain": [
       "8"
      ]
     },
     "execution_count": 30,
     "metadata": {},
     "output_type": "execute_result"
    }
   ],
   "source": [
    "lista.index(20)"
   ]
  },
  {
   "cell_type": "code",
   "execution_count": 19,
   "id": "e7194f0c",
   "metadata": {},
   "outputs": [
    {
     "data": {
      "text/plain": [
       "2"
      ]
     },
     "execution_count": 19,
     "metadata": {},
     "output_type": "execute_result"
    }
   ],
   "source": [
    "lista.count(1)"
   ]
  },
  {
   "cell_type": "code",
   "execution_count": 28,
   "id": "7fa34e66",
   "metadata": {},
   "outputs": [],
   "source": [
    "lista.reverse()"
   ]
  },
  {
   "cell_type": "code",
   "execution_count": 29,
   "id": "14dedf01",
   "metadata": {},
   "outputs": [
    {
     "data": {
      "text/plain": [
       "[1, 2, 3, 4, 5, 6, 7, 19, 20, 1, 2]"
      ]
     },
     "execution_count": 29,
     "metadata": {},
     "output_type": "execute_result"
    }
   ],
   "source": [
    "lista"
   ]
  },
  {
   "cell_type": "code",
   "execution_count": 22,
   "id": "8eb01809",
   "metadata": {},
   "outputs": [
    {
     "data": {
      "text/plain": [
       "list"
      ]
     },
     "execution_count": 22,
     "metadata": {},
     "output_type": "execute_result"
    }
   ],
   "source": [
    "type(lista)"
   ]
  },
  {
   "cell_type": "code",
   "execution_count": 23,
   "id": "b287d7ae",
   "metadata": {},
   "outputs": [
    {
     "data": {
      "text/plain": [
       "20"
      ]
     },
     "execution_count": 23,
     "metadata": {},
     "output_type": "execute_result"
    }
   ],
   "source": [
    "max(lista)"
   ]
  },
  {
   "cell_type": "code",
   "execution_count": 24,
   "id": "54c2d045",
   "metadata": {},
   "outputs": [
    {
     "data": {
      "text/plain": [
       "1"
      ]
     },
     "execution_count": 24,
     "metadata": {},
     "output_type": "execute_result"
    }
   ],
   "source": [
    "min(lista)"
   ]
  },
  {
   "cell_type": "code",
   "execution_count": 25,
   "id": "1dc8fb98",
   "metadata": {},
   "outputs": [
    {
     "data": {
      "text/plain": [
       "11"
      ]
     },
     "execution_count": 25,
     "metadata": {},
     "output_type": "execute_result"
    }
   ],
   "source": [
    "len(lista)"
   ]
  },
  {
   "cell_type": "markdown",
   "id": "e280747d",
   "metadata": {},
   "source": [
    "# Funciones Tuplas"
   ]
  },
  {
   "cell_type": "markdown",
   "id": "efea542d",
   "metadata": {},
   "source": [
    "- Len() -> Devuelve la longitud de la tupla\n",
    "- Tuple() -> Conviente una lista en una tupla\n",
    "- sum() -> Suma los elementos de la tupla\n",
    "- sorted() -> Ordena de manera ascendente los elementos de la tupla"
   ]
  },
  {
   "cell_type": "code",
   "execution_count": 32,
   "id": "64c21fce",
   "metadata": {},
   "outputs": [
    {
     "name": "stdout",
     "output_type": "stream",
     "text": [
      "<class 'tuple'>\n"
     ]
    }
   ],
   "source": [
    "lista = [1, 2, 3]\n",
    "tupla = tuple(lista)\n",
    "print(type(tupla)) "
   ]
  },
  {
   "cell_type": "code",
   "execution_count": 33,
   "id": "0dfffbf5",
   "metadata": {},
   "outputs": [
    {
     "data": {
      "text/plain": [
       "(1, 2, 3)"
      ]
     },
     "execution_count": 33,
     "metadata": {},
     "output_type": "execute_result"
    }
   ],
   "source": [
    "tupla"
   ]
  },
  {
   "cell_type": "code",
   "execution_count": 36,
   "id": "824082be",
   "metadata": {},
   "outputs": [
    {
     "data": {
      "text/plain": [
       "3"
      ]
     },
     "execution_count": 36,
     "metadata": {},
     "output_type": "execute_result"
    }
   ],
   "source": [
    "tupla[2]"
   ]
  },
  {
   "cell_type": "code",
   "execution_count": 37,
   "id": "ab07d99d",
   "metadata": {},
   "outputs": [
    {
     "data": {
      "text/plain": [
       "3"
      ]
     },
     "execution_count": 37,
     "metadata": {},
     "output_type": "execute_result"
    }
   ],
   "source": [
    "len(tupla)"
   ]
  },
  {
   "cell_type": "code",
   "execution_count": 38,
   "id": "655bac60",
   "metadata": {},
   "outputs": [],
   "source": [
    "tupla = tupla + (5, 6)"
   ]
  },
  {
   "cell_type": "code",
   "execution_count": 39,
   "id": "8c779f59",
   "metadata": {},
   "outputs": [
    {
     "data": {
      "text/plain": [
       "(1, 2, 3, 5, 6)"
      ]
     },
     "execution_count": 39,
     "metadata": {},
     "output_type": "execute_result"
    }
   ],
   "source": [
    "tupla"
   ]
  },
  {
   "cell_type": "code",
   "execution_count": 40,
   "id": "3a7da928",
   "metadata": {},
   "outputs": [
    {
     "data": {
      "text/plain": [
       "17"
      ]
     },
     "execution_count": 40,
     "metadata": {},
     "output_type": "execute_result"
    }
   ],
   "source": [
    "sum(tupla)"
   ]
  },
  {
   "cell_type": "code",
   "execution_count": 41,
   "id": "1fa04501",
   "metadata": {},
   "outputs": [
    {
     "data": {
      "text/plain": [
       "(1, 2, 3, 5, 6, 4, 1)"
      ]
     },
     "execution_count": 41,
     "metadata": {},
     "output_type": "execute_result"
    }
   ],
   "source": [
    "tupla = tupla + (4, 1)\n",
    "tupla"
   ]
  },
  {
   "cell_type": "code",
   "execution_count": 42,
   "id": "3b366b46",
   "metadata": {},
   "outputs": [
    {
     "data": {
      "text/plain": [
       "[1, 1, 2, 3, 4, 5, 6]"
      ]
     },
     "execution_count": 42,
     "metadata": {},
     "output_type": "execute_result"
    }
   ],
   "source": [
    "sorted(tupla)"
   ]
  },
  {
   "cell_type": "code",
   "execution_count": 44,
   "id": "a49bc732",
   "metadata": {},
   "outputs": [
    {
     "data": {
      "text/plain": [
       "'café'"
      ]
     },
     "execution_count": 44,
     "metadata": {},
     "output_type": "execute_result"
    }
   ],
   "source": [
    "bebidas = ('agua', 'café', 'batido', 'helado')\n",
    "bebidas[-3]"
   ]
  },
  {
   "cell_type": "code",
   "execution_count": 45,
   "id": "d1f24628",
   "metadata": {},
   "outputs": [
    {
     "name": "stdout",
     "output_type": "stream",
     "text": [
      "('i',)\n",
      "('i', 'o')\n",
      "('a', 'e', 'i', 'o', 'u')\n",
      "('e', 'i', 'o', 'u')\n",
      "('a', 'e', 'i')\n"
     ]
    }
   ],
   "source": [
    "vocales = 'a', 'e', 'i', 'o', 'u'\n",
    "print(vocales[2:3])  # Elementos desde el índice 2 hasta el índice 3-1\n",
    "print(vocales[2:4])  # Elementos desde el 2 hasta el índice 4-1\n",
    "print(vocales[:])  # Todos los elementos\n",
    "print(vocales[1:])  # Elementos desde el índice 1\n",
    "print(vocales[:3])  # Elementos hasta el índice 3-1"
   ]
  },
  {
   "cell_type": "code",
   "execution_count": 46,
   "id": "da630c24",
   "metadata": {},
   "outputs": [
    {
     "data": {
      "text/plain": [
       "(1, ['a', 'b', 'c'], 'hola', 8.2)"
      ]
     },
     "execution_count": 46,
     "metadata": {},
     "output_type": "execute_result"
    }
   ],
   "source": [
    "tupla = (1, ['a', 'b'], 'hola', 8.2)\n",
    "tupla[1].append('c')  # tupla[1] hace referencia a la lista\n",
    "tupla"
   ]
  },
  {
   "cell_type": "markdown",
   "id": "1ffc4c80",
   "metadata": {},
   "source": [
    "# Funciones Conjuntos"
   ]
  },
  {
   "cell_type": "markdown",
   "id": "3bd85157",
   "metadata": {},
   "source": [
    "- add() -> Agrega un elemento al conjunto\n",
    "- clear() -> Elimina todos los elementos del conjunto\n",
    "- copy() -> Devuelve una copia del conjunto\n",
    "- difference() -> Devuelve el conjunto que contiene la diferencia entre uno o mas conjuntos\n",
    "- difference_update() -> Elimina los elementos del conjunto que estan incluidos en otro\n",
    "- discard() -> Elimina un elemento especificado\n",
    "- intersection() -> Devuelve el conjunto donde existen la interseccion entre 2 conjuntos\n",
    "- intersection_update() -> Elimina los elementos del conjunto que no estan presentes en otro\n",
    "- isdisjoin() -> Devuelve los conjuntos donde haya interseccion o no"
   ]
  },
  {
   "cell_type": "code",
   "execution_count": 47,
   "id": "58efed9e",
   "metadata": {},
   "outputs": [],
   "source": [
    "maria = {'manzana', 'pera', 'uva', 'melon', 'fresa'}\n",
    "rodrigo = {'uva', 'sandia', 'fresa', 'naranja'}"
   ]
  },
  {
   "cell_type": "code",
   "execution_count": 48,
   "id": "09435a2a",
   "metadata": {},
   "outputs": [
    {
     "data": {
      "text/plain": [
       "{'fresa', 'uva'}"
      ]
     },
     "execution_count": 48,
     "metadata": {},
     "output_type": "execute_result"
    }
   ],
   "source": [
    "maria.intersection(rodrigo)"
   ]
  },
  {
   "cell_type": "code",
   "execution_count": 49,
   "id": "08049e52",
   "metadata": {},
   "outputs": [
    {
     "data": {
      "text/plain": [
       "{'fresa', 'manzana', 'melon', 'pera', 'uva'}"
      ]
     },
     "execution_count": 49,
     "metadata": {},
     "output_type": "execute_result"
    }
   ],
   "source": [
    "ensalada = maria.copy()\n",
    "ensalada"
   ]
  },
  {
   "cell_type": "code",
   "execution_count": 50,
   "id": "b9300fae",
   "metadata": {},
   "outputs": [
    {
     "data": {
      "text/plain": [
       "set()"
      ]
     },
     "execution_count": 50,
     "metadata": {},
     "output_type": "execute_result"
    }
   ],
   "source": [
    "ensalada.clear()\n",
    "ensalada"
   ]
  },
  {
   "cell_type": "code",
   "execution_count": 51,
   "id": "0564339c",
   "metadata": {},
   "outputs": [
    {
     "data": {
      "text/plain": [
       "{'fresa', 'manzana', 'melon', 'pera', 'uva'}"
      ]
     },
     "execution_count": 51,
     "metadata": {},
     "output_type": "execute_result"
    }
   ],
   "source": [
    "ensalada = maria.copy()\n",
    "ensalada"
   ]
  },
  {
   "cell_type": "code",
   "execution_count": 52,
   "id": "869a2458",
   "metadata": {},
   "outputs": [
    {
     "data": {
      "text/plain": [
       "{'fresa', 'kiwi', 'manzana', 'melon', 'pera', 'uva'}"
      ]
     },
     "execution_count": 52,
     "metadata": {},
     "output_type": "execute_result"
    }
   ],
   "source": [
    "ensalada.add('kiwi')\n",
    "ensalada"
   ]
  },
  {
   "cell_type": "code",
   "execution_count": 53,
   "id": "415466e8",
   "metadata": {},
   "outputs": [
    {
     "data": {
      "text/plain": [
       "{'kiwi'}"
      ]
     },
     "execution_count": 53,
     "metadata": {},
     "output_type": "execute_result"
    }
   ],
   "source": [
    "ensalada.difference(maria)"
   ]
  },
  {
   "cell_type": "code",
   "execution_count": 54,
   "id": "efd535b1",
   "metadata": {},
   "outputs": [
    {
     "data": {
      "text/plain": [
       "{'kiwi', 'manzana', 'melon', 'pera', 'uva'}"
      ]
     },
     "execution_count": 54,
     "metadata": {},
     "output_type": "execute_result"
    }
   ],
   "source": [
    "ensalada.discard('fresa')\n",
    "ensalada"
   ]
  },
  {
   "cell_type": "markdown",
   "id": "43276ebd",
   "metadata": {},
   "source": [
    "# Funciones Diccionarios"
   ]
  },
  {
   "cell_type": "markdown",
   "id": "68cbc40c",
   "metadata": {},
   "source": [
    "- clear() -> Elimina todos los elementos del diccionario\n",
    "- copy() -> Devuelve una copia del diccionario\n",
    "- fromkeys() -> Devuelve el diccionario con la llave y valor especifico\n",
    "- get() -> Devuleve el valor especifico segun la llave\n",
    "- items() -> Retorna una lista contenida en una tupla por cada par de llave-valor\n",
    "- keys() -> Retorna las llaves del diccionario\n",
    "- pop() -> Elimina el elemento de la llave especificada\n",
    "- popitem() -> Elimina la ultima llave - valor insertada\n",
    "- setdefault() -> Devuelve el valor de la llave especificada, sino existe la llave, se inserta con algun valor determinado\n",
    "- update() -> Actualiza el diccionario con la llave y valor especificado\n",
    "- values() -> Devuelve una lista con todos los valores del diccionario"
   ]
  },
  {
   "cell_type": "code",
   "execution_count": 56,
   "id": "7b3c0cc1",
   "metadata": {},
   "outputs": [
    {
     "name": "stdout",
     "output_type": "stream",
     "text": [
      "{'Nombre': 'Sara', 'Edad': 27, 'Documento': 1003882}\n"
     ]
    }
   ],
   "source": [
    "d1 = {\n",
    "  \"Nombre\": \"Sara\",\n",
    "  \"Edad\": 27,\n",
    "  \"Documento\": 1003882\n",
    "}\n",
    "print(d1)"
   ]
  },
  {
   "cell_type": "code",
   "execution_count": 57,
   "id": "2c6d2fb7",
   "metadata": {},
   "outputs": [
    {
     "name": "stdout",
     "output_type": "stream",
     "text": [
      "{'Nombre': 'Sara', 'Edad': 27, 'Documento': 1003882}\n"
     ]
    }
   ],
   "source": [
    "d2 = dict([\n",
    "      ('Nombre', 'Sara'),\n",
    "      ('Edad', 27),\n",
    "      ('Documento', 1003882),\n",
    "])\n",
    "print(d2)"
   ]
  },
  {
   "cell_type": "code",
   "execution_count": 60,
   "id": "a191a604",
   "metadata": {},
   "outputs": [
    {
     "name": "stdout",
     "output_type": "stream",
     "text": [
      "{'anidado1': {'a': 1, 'b': 2}, 'anidado2': {'a': 1, 'b': 2}}\n"
     ]
    }
   ],
   "source": [
    "anidado1 = {\"a\": 1, \"b\": 2}\n",
    "anidado2 = {\"a\": 1, \"b\": 2}\n",
    "d = {\n",
    "  \"anidado1\" : anidado1,\n",
    "  \"anidado2\" : anidado2\n",
    "}\n",
    "print(d)"
   ]
  },
  {
   "cell_type": "code",
   "execution_count": 61,
   "id": "29b0e505",
   "metadata": {},
   "outputs": [
    {
     "name": "stdout",
     "output_type": "stream",
     "text": [
      "{}\n"
     ]
    }
   ],
   "source": [
    "d = {'a': 1, 'b': 2}\n",
    "d.clear()\n",
    "print(d)"
   ]
  },
  {
   "cell_type": "code",
   "execution_count": 62,
   "id": "4de16f2c",
   "metadata": {},
   "outputs": [
    {
     "name": "stdout",
     "output_type": "stream",
     "text": [
      "1\n"
     ]
    }
   ],
   "source": [
    "d = {'a': 1, 'b': 2}\n",
    "print(d.get('a')) #1"
   ]
  },
  {
   "cell_type": "code",
   "execution_count": 63,
   "id": "e2f2d1bf",
   "metadata": {},
   "outputs": [
    {
     "name": "stdout",
     "output_type": "stream",
     "text": [
      "dict_items([('a', 1), ('b', 2)])\n"
     ]
    }
   ],
   "source": [
    "d = {'a': 1, 'b': 2}\n",
    "it = d.items()\n",
    "print(it)      "
   ]
  },
  {
   "cell_type": "code",
   "execution_count": 64,
   "id": "2250e874",
   "metadata": {},
   "outputs": [
    {
     "name": "stdout",
     "output_type": "stream",
     "text": [
      "dict_keys(['a', 'b'])\n"
     ]
    }
   ],
   "source": [
    "d = {'a': 1, 'b': 2}\n",
    "k = d.keys()\n",
    "print(k) "
   ]
  },
  {
   "cell_type": "code",
   "execution_count": 65,
   "id": "653503e9",
   "metadata": {},
   "outputs": [
    {
     "name": "stdout",
     "output_type": "stream",
     "text": [
      "[1, 2]\n"
     ]
    }
   ],
   "source": [
    "d = {'a': 1, 'b': 2}\n",
    "print(list(d.values()))"
   ]
  },
  {
   "cell_type": "code",
   "execution_count": 66,
   "id": "2400699c",
   "metadata": {},
   "outputs": [
    {
     "data": {
      "text/plain": [
       "1"
      ]
     },
     "execution_count": 66,
     "metadata": {},
     "output_type": "execute_result"
    }
   ],
   "source": [
    "d = {'a': 1, 'b': 2}\n",
    "d.pop('a')"
   ]
  },
  {
   "cell_type": "code",
   "execution_count": 67,
   "id": "1105b83a",
   "metadata": {},
   "outputs": [
    {
     "name": "stdout",
     "output_type": "stream",
     "text": [
      "{'a': 1}\n"
     ]
    }
   ],
   "source": [
    "d = {'a': 1, 'b': 2}\n",
    "d.popitem()\n",
    "print(d)"
   ]
  },
  {
   "cell_type": "code",
   "execution_count": null,
   "id": "0799df98",
   "metadata": {},
   "outputs": [],
   "source": [
    "d1 = {'a': 1, 'b': 2}\n",
    "d2 = {'a': 0, 'd': 400}\n",
    "d1.update(d2)\n",
    "print(d1)"
   ]
  },
  {
   "cell_type": "code",
   "execution_count": null,
   "id": "6ff06e29",
   "metadata": {},
   "outputs": [],
   "source": []
  }
 ],
 "metadata": {
  "kernelspec": {
   "display_name": "Python 3 (ipykernel)",
   "language": "python",
   "name": "python3"
  },
  "language_info": {
   "codemirror_mode": {
    "name": "ipython",
    "version": 3
   },
   "file_extension": ".py",
   "mimetype": "text/x-python",
   "name": "python",
   "nbconvert_exporter": "python",
   "pygments_lexer": "ipython3",
   "version": "3.8.12"
  }
 },
 "nbformat": 4,
 "nbformat_minor": 5
}
