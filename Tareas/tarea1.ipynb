{
 "cells": [
  {
   "cell_type": "markdown",
   "metadata": {},
   "source": [
    "# Tarea# 1 - Franco Lorenzo"
   ]
  },
  {
   "cell_type": "markdown",
   "metadata": {},
   "source": [
    "##  1. Inicialice 3 variables con diferentes valores\n",
    "\n",
    "    a. Deje el resultado de (var1 * var2) + (var1 / var2) en var3 e imprima el resultado\n",
    "    b. Modifique el valor de var1 por var1 * 67 / 34 y el valor de var2 por 87 e imprima cada una de las variables\n",
    "    c. Vuelva a realizas el paso a e imprima nuevamente el resultado"
   ]
  },
  {
   "cell_type": "code",
   "execution_count": 45,
   "metadata": {
    "dotnet_interactive": {
     "language": "csharp"
    }
   },
   "outputs": [
    {
     "name": "stdout",
     "output_type": "stream",
     "text": [
      "El resultado del apartado a es: 3.3333333333333335\n"
     ]
    }
   ],
   "source": [
    "var1 = 1\n",
    "var2 = 3\n",
    "var3 = (var1 * var2 ) + (var1 / var2)\n",
    "\n",
    "print(\"El resultado del apartado a es: \" + str(var3))"
   ]
  },
  {
   "cell_type": "code",
   "execution_count": 46,
   "metadata": {
    "dotnet_interactive": {
     "language": "csharp"
    }
   },
   "outputs": [
    {
     "name": "stdout",
     "output_type": "stream",
     "text": [
      "El resultado del apartado b es: var1 = 1.9705882352941178 y var2 = 261\n"
     ]
    }
   ],
   "source": [
    "var1 = (var1 * 67) / 34\n",
    "var2 = var2 * 87\n",
    "\n",
    "print(\"El resultado del apartado b es: var1 = \" + str(var1) + \" y var2 = \" + str(var2))"
   ]
  },
  {
   "cell_type": "code",
   "execution_count": 47,
   "metadata": {
    "dotnet_interactive": {
     "language": "csharp"
    }
   },
   "outputs": [
    {
     "name": "stdout",
     "output_type": "stream",
     "text": [
      "El resultado del apartado c es: 514.3310795582602\n"
     ]
    }
   ],
   "source": [
    "var3 = (var1 * var2 ) + (var1 / var2)\n",
    "\n",
    "print(\"El resultado del apartado c es: \" + str(var3))"
   ]
  },
  {
   "cell_type": "markdown",
   "metadata": {},
   "source": [
    "## 2. Evalúe el polinomio x4 + x3 + 2x2 – x en x=1. El resultado es 4,1151."
   ]
  },
  {
   "cell_type": "code",
   "execution_count": 48,
   "metadata": {
    "dotnet_interactive": {
     "language": "csharp"
    }
   },
   "outputs": [
    {
     "data": {
      "text/plain": [
       "3"
      ]
     },
     "execution_count": 48,
     "metadata": {},
     "output_type": "execute_result"
    }
   ],
   "source": [
    "x = 1\n",
    "(x ** 4) + (x ** 3) + (2 * x ** 2) - x\n"
   ]
  },
  {
   "cell_type": "markdown",
   "metadata": {},
   "source": [
    "## 3.  Evalúe el polinomio x4 + x3 + (1/2)x2 – x en x=10. El resultado es 11040,0."
   ]
  },
  {
   "cell_type": "code",
   "execution_count": 49,
   "metadata": {
    "dotnet_interactive": {
     "language": "csharp"
    }
   },
   "outputs": [
    {
     "data": {
      "text/plain": [
       "11050.0"
      ]
     },
     "execution_count": 49,
     "metadata": {},
     "output_type": "execute_result"
    }
   ],
   "source": [
    "x = 10\n",
    "x ** 4 + x ** 3 + (1/2) * x ** 2"
   ]
  },
  {
   "cell_type": "markdown",
   "metadata": {},
   "source": [
    "##  4. Escribir el código necesario que muestre la cadena de caracteres: “Bienvenido al curso Introductorio de Python.”"
   ]
  },
  {
   "cell_type": "code",
   "execution_count": 50,
   "metadata": {
    "dotnet_interactive": {
     "language": "csharp"
    }
   },
   "outputs": [
    {
     "name": "stdout",
     "output_type": "stream",
     "text": [
      "Bienvenido al curso Introductorio de Python.\n"
     ]
    }
   ],
   "source": [
    "varMensaje = \"Bienvenido al curso Introductorio de Python.\"\n",
    "\n",
    "print(varMensaje)"
   ]
  },
  {
   "cell_type": "markdown",
   "metadata": {},
   "source": [
    "##  5. Escribir el código que lea un número entero <n> introducido por el usuario y después muestre en pantalla el resultado de la siguiente operación: suma = (n(n+1)) / 2"
   ]
  },
  {
   "cell_type": "code",
   "execution_count": 51,
   "metadata": {},
   "outputs": [
    {
     "name": "stdout",
     "output_type": "stream",
     "text": [
      "El resultado de la operación ( 5 * ( 5 + 1 ) / 2 ) es: 15.0\n"
     ]
    }
   ],
   "source": [
    "# Capturar número entero del usuario y convertirlo de tipo string a integer.\n",
    "# Examinar el valor ingresado. Continuar con la operación si el usuario ingresa un número entero, de lo contraio solicite de nuevo el número entero.   \n",
    "while True:\n",
    "  try:\n",
    "    num = int(input(\"Ingrese un número entero: \"))\n",
    "    break\n",
    "  except ValueError:\n",
    "      print(\"Valor incorrecto. Por favor ingresar un número entero.\")  \n",
    "      continue\n",
    "\n",
    "# Realizar la operacion suma = (n(n+1)) / 2\n",
    "suma = ( num * ( num + 1 ) ) / 2\n",
    "\n",
    "print(f\"El resultado de la operación ( {num} * ( {num} + 1 ) / 2 ) es: \" + str(suma))"
   ]
  },
  {
   "cell_type": "markdown",
   "metadata": {},
   "source": [
    "## 6. Una tienda vende galletas artesanales a 99.99 colones cada una. Sin embargo, la galleta que no es del día tiene un descuento del 50%. \n",
    "    \n",
    "    a. Escriba el código que comience leyendo el número de galletas vendidas que no son del día. \n",
    "    b. Después el código debe mostrar el precio habitual de una galleta.\n",
    "    c. Muestre el descuento que se le aplica por no ser fresca.\n",
    "    d. Finalmente, calcule y muestre el costo final a pagar por las galletas que no fueron del día"
   ]
  },
  {
   "cell_type": "code",
   "execution_count": 52,
   "metadata": {},
   "outputs": [
    {
     "name": "stdout",
     "output_type": "stream",
     "text": [
      "El precio habital de una galleta fresca es de: 99.99. Se le aplica un 50% de descuento a las galletas no frescas.\n",
      "La cantidad de galletas vendindas NO frescas es de: 10. Estas tienen un descuento de 499.95\n",
      "El costo total de 10 galletas no frescas es de 499.95.\n"
     ]
    }
   ],
   "source": [
    "costoGalleta = 99.99\n",
    "\n",
    "# Capturar número entero del usuario y convertirlo de tipo string a integer.\n",
    "# Examinar el valor ingresado. Continuar con la operación si el usuario ingresa un número entero, de lo contraio solicite de nuevo el número entero.   \n",
    "while True:\n",
    "  try:\n",
    "    galletasNoFrescas = int(input(\"Ingrese un número de galletas vendidas que No son del día: \"))\n",
    "    break\n",
    "  except ValueError:\n",
    "      print(\"Valor incorrecto. Por favor ingresar un número entero.\")  \n",
    "      continue\n",
    "\n",
    "aPagar = costoGalleta * galletasNoFrescas\n",
    "descuento = aPagar * 0.5\n",
    "costoTotal = aPagar - descuento\n",
    "\n",
    "print(f\"El precio habital de una galleta fresca es de: {costoGalleta}. Se le aplica un 50% de descuento a las galletas no frescas.\")\n",
    "print(f\"La cantidad de galletas vendindas NO frescas es de: {galletasNoFrescas}. Estas tienen un descuento de {descuento}\")\n",
    "print(f\"El costo total de {galletasNoFrescas} galletas no frescas es de {costoTotal}.\")\n"
   ]
  }
 ],
 "metadata": {
  "interpreter": {
   "hash": "6f7c4d44365b28014734406e4d617c1e1f76ea196def854c7b951a230f6e24f1"
  },
  "kernelspec": {
   "display_name": "Python 3.9.5 64-bit",
   "name": "python3"
  },
  "language_info": {
   "codemirror_mode": {
    "name": "ipython",
    "version": 3
   },
   "file_extension": ".py",
   "mimetype": "text/x-python",
   "name": "python",
   "nbconvert_exporter": "python",
   "pygments_lexer": "ipython3",
   "version": "3.9.5"
  },
  "orig_nbformat": 4
 },
 "nbformat": 4,
 "nbformat_minor": 2
}
