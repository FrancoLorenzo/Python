{
 "cells": [
  {
   "cell_type": "markdown",
   "metadata": {},
   "source": [
    "# Tarea# 3 - Franco Lorenzo"
   ]
  },
  {
   "cell_type": "markdown",
   "metadata": {},
   "source": [
    "## 1. Defina un ciclo que divida la siguiente lista en nuevas listas según el tipo de datos. Nota: deberían generar al menos 5 listas adicionales, 1 por cada tipo de dato.\n",
    "\n",
    "    a. listaInicial = [1, ‘Hola’, 5.5, [1,2], ‘6’, 7896, 98.3, ‘lista’, ‘manzana’, 4, 234.0, (1, 2, 4), [6,99], ‘45’]\n"
   ]
  },
  {
   "cell_type": "code",
   "execution_count": 21,
   "metadata": {},
   "outputs": [
    {
     "name": "stdout",
     "output_type": "stream",
     "text": [
      "La lista intLista contiene los siguientes valores: ['1', '7896', '4']\n",
      "La lista strLista contiene los siguientes valores: ['Hola', '6', 'lista', 'manzana', '45']\n",
      "La lista floatLista contiene los siguientes valores: ['5.5', '98.3', '234.0']\n",
      "La lista listLista contiene los siguientes valores: ['[1, 2]', '[6, 99]']\n",
      "La lista tupleLista contiene los siguientes valores: ['(1, 2, 4)']\n"
     ]
    }
   ],
   "source": [
    "# Declarar listas\n",
    "listaInicial = [1, 'Hola', 5.5, [1,2], '6', 7896, 98.3, 'lista', 'manzana', 4, 234.0, (1, 2, 4), [6,99], '45']\n",
    "\n",
    "intLista = []\n",
    "strLista = []\n",
    "floatLista = []\n",
    "listLista = []\n",
    "tupleLista = []\n",
    "\n",
    "# Recorrer listaInicial, determinar el tipo de item y asignarlo a la lista correcta.\n",
    "for i in listaInicial:\n",
    "\n",
    "    tipo = str(type(i))[8:-2]\n",
    "    i = str(i)\n",
    "\n",
    "    if tipo == 'int':\n",
    "        intLista.append(i)\n",
    "    elif tipo == 'str':\n",
    "        strLista.append(i)\n",
    "    elif tipo == 'float':\n",
    "        floatLista.append(i)\n",
    "    elif tipo == 'list':\n",
    "        listLista.append(i)\n",
    "    elif tipo == 'tuple':\n",
    "        tupleLista.append(i)\n",
    "\n",
    "# Imprimir las listas\n",
    "print(f'La lista intLista contiene los siguientes valores: {intLista}')\n",
    "print(f'La lista strLista contiene los siguientes valores: {strLista}')\n",
    "print(f'La lista floatLista contiene los siguientes valores: {floatLista}')\n",
    "print(f'La lista listLista contiene los siguientes valores: {listLista}')\n",
    "print(f'La lista tupleLista contiene los siguientes valores: {tupleLista}')"
   ]
  },
  {
   "cell_type": "markdown",
   "metadata": {},
   "source": [
    "## 2. Escriba un programa que le pregunte al usuario lo siguiente:\n",
    "    a. Su nombre, su apellido y su edad\n",
    "    b. Solicite al usuario el salario bruto que recibe al mes\n",
    "    c. Genere un método donde se imprima un saludo con la personalizacióndel nombre del usuario.\n",
    "    d. Genere un método que muestre al usuario los siguiente:\n",
    "        i. El salario bruto\n",
    "        ii. Aplique sobre ese salario un 13% de impuestos a deducir e indíquelo.\n",
    "        iii. Aplique sobre el salario restante un 5% de ahorro navideño.\n",
    "        iv. Aplique un 10% adicional para otras cargas.\n",
    "        v. Finalmente, muestre cual es el salario neto de dicho usuario."
   ]
  },
  {
   "cell_type": "code",
   "execution_count": 20,
   "metadata": {},
   "outputs": [
    {
     "name": "stdout",
     "output_type": "stream",
     "text": [
      "Hola Franco Lorenzo!\n",
      "Su salario bruto mensual es: 100.0\n",
      "A continuacion se incluyen las siguientes deducciones: \n",
      "-----------------------------------------------------------\n",
      "Impuestos 13%: 13.0\n",
      "Ahorro Navideño 5%: 5.0\n",
      "-----------------------------------------------------------\n",
      "Su salario final es de: 72.0\n"
     ]
    }
   ],
   "source": [
    "# Declaracion de variables\n",
    "nombre = input(\"Ingrese su nombre: \")\n",
    "apellido = input(\"Ingrese su apellido: \")\n",
    "\n",
    "while True:\n",
    "  try:\n",
    "    edad = int(input(\"Ingrese su edad: \"))\n",
    "    break\n",
    "  except ValueError:\n",
    "      print(\"Valor incorrecto. Por favor ingresar un número entero para su edad.\")  \n",
    "      continue\n",
    "\n",
    "\n",
    "while True:\n",
    "  try:\n",
    "    salarioBruto = salarioBruto = float(input(\"Ingrese su salario bruto mensual: \"))\n",
    "    break\n",
    "  except ValueError:\n",
    "      print(\"Valor incorrecto. Por favor ingresar un número para su salario bruto mensual.\")  \n",
    "      continue\n",
    "\n",
    "\n",
    "\n",
    "# La siguiente funcion retorna un saludo con el nombre y apellido del usuario\n",
    "def saludo(nombre, apellido):\n",
    "    print(f\"Hola {nombre} {apellido}!\")\n",
    "\n",
    "# La siguiente funcion retorna el calculo del salario final del usuario\n",
    "def salario(salarioBruto):\n",
    "    impuestos = salarioBruto * 0.13\n",
    "    ahorroNavideno = salarioBruto * 0.05\n",
    "    otrasCargas = salarioBruto * 0.10\n",
    "    salarioFinal = salarioBruto - impuestos - ahorroNavideno - otrasCargas\n",
    "\n",
    "    print(f\"Su salario bruto mensual es: {salarioBruto}\")\n",
    "    print(f\"A continuacion se incluyen las siguientes deducciones: \")\n",
    "    print(\"-----------------------------------------------------------\")\n",
    "    print(f\"Impuestos 13%: {impuestos}\")\n",
    "    print(f\"Ahorro Navideño 5%: {ahorroNavideno}\")\n",
    "    print(\"-----------------------------------------------------------\")\n",
    "    print(f\"Su salario final es de: {salarioFinal}\")\n",
    "\n",
    "saludo(nombre, apellido)\n",
    "salario(salarioBruto)"
   ]
  },
  {
   "cell_type": "markdown",
   "metadata": {},
   "source": [
    "## 3. Para los siguientes problemas resuelva por medio de ciclos, funciones o POO lo siguiente: \n",
    "    a. Dados 2 números se debe indicar la suma, la resta, la división y la multiplicación de ambos números.\n",
    "    b. Dado un número N, imprima ordenadamente la tabla de multiplicar de dicho número.\n",
    "    c. Calcule el perímetro y el área de un rectángulo según la base y la altura que se le indique."
   ]
  },
  {
   "cell_type": "code",
   "execution_count": 34,
   "metadata": {},
   "outputs": [
    {
     "name": "stdout",
     "output_type": "stream",
     "text": [
      "El resultado de la suma de 1 + 1 es: 2\n",
      "El resultado de la resta de 1 - 1 es: 0\n",
      "El resultado de la multiplicación de 1 * 1 es: 1\n",
      "El resultado de la división de 1 / 1 es: 1.0\n",
      "La tabla de multiplicar es:\n",
      "2 * 0 = 0\n",
      "2 * 1 = 2\n",
      "2 * 2 = 4\n",
      "2 * 3 = 6\n",
      "2 * 4 = 8\n",
      "2 * 5 = 10\n",
      "2 * 6 = 12\n",
      "2 * 7 = 14\n",
      "2 * 8 = 16\n",
      "2 * 9 = 18\n",
      "2 * 10 = 20\n",
      "Dado un rectángulo de base 2 y altura 3, su área es de 6 y su perímetro es de 10.\n"
     ]
    }
   ],
   "source": [
    "# Ingreso de datos\n",
    "while True:\n",
    "  try:\n",
    "    num1 = int(input(\"Ingrese el primer número: \"))\n",
    "    num2 = int(input(\"Ingrese el segundo número: \"))\n",
    "    num3 = int(input(\"Ingrese el tercer número para generar la tabla de multiplicación: \"))\n",
    "    num4 = int(input(\"Ingrese la base de un retángulo para cálcular su área y perímerto: \"))\n",
    "    num5 = int(input(\"Ingrese la altura de un retángulo para cálcular su área y perímerto: \"))\n",
    "    break\n",
    "  except ValueError:\n",
    "      print(\"Valor incorrecto. Por favor ingresar un número.\")  \n",
    "      continue\n",
    "\n",
    "# Dados 2 números se debe indicar la suma, la resta, la división y la multiplicación de ambos números.\n",
    "def operaciones(num1, num2):\n",
    "    suma = num1 + num2\n",
    "    resta = num1 - num2\n",
    "    multiplicacion = num1 * num2\n",
    "    division = num1 / num2\n",
    "\n",
    "    print(f\"El resultado de la suma de {num1} + {num2} es: {suma}\")\n",
    "    print(f\"El resultado de la resta de {num1} - {num2} es: {resta}\")\n",
    "    print(f\"El resultado de la multiplicación de {num1} * {num2} es: {multiplicacion}\")\n",
    "    if num1 == 0:\n",
    "        print(\"No se puede realizar division entre 0.\")\n",
    "    else:\n",
    "        print(f\"El resultado de la división de {num1} / {num2} es: {division}\")\n",
    "\n",
    "# Dado un número N, imprima ordenadamente la tabla de multiplicar de dicho número.\n",
    "def multiplicacion(num3):\n",
    "    \n",
    "    print(\"La tabla de multiplicar es:\")\n",
    "    for i in range(11):\n",
    "        val = num3 * i\n",
    "        print(f\"{num3} * {i} = {val}\")\n",
    "\n",
    "# Calcule el perímetro y el área de un rectángulo según la base y la altura que se le indique.\n",
    "def rectangulo(num4, num5):\n",
    "    area = num4 * num5\n",
    "    perimetro = ( num4 + num4 ) + ( num5 + num5 )\n",
    "    print(f\"Dado un rectángulo de base {num4} y altura {num5}, su área es de {area} y su perímetro es de {perimetro}.\")\n",
    "\n",
    "operaciones(num1, num2)\n",
    "multiplicacion(num3)\n",
    "rectangulo(num4, num5)"
   ]
  },
  {
   "cell_type": "markdown",
   "metadata": {},
   "source": [
    "## 4. Escribir un programa que le pregunte al usuario una cantidad de pesos, una tasa de interés y un número de años y muestre como resultado el monto final a obtener."
   ]
  },
  {
   "cell_type": "code",
   "execution_count": 36,
   "metadata": {},
   "outputs": [
    {
     "name": "stdout",
     "output_type": "stream",
     "text": [
      "El cálculo del préstamo con un capital de 200 pesos, una tasa de interés del 10%, y una duración de 5 años es de: 322.1020000000001\n"
     ]
    }
   ],
   "source": [
    "# Ingreso de datos\n",
    "while True:\n",
    "  try:\n",
    "    pesos = int(input(\"Ingrese la cantidad de pesos: \"))\n",
    "    interes = int(input(\"Ingrese el interés que desea calcular: \"))\n",
    "    duracion = int(input(\"Ingrese la cantidad de años del préstamo: \"))\n",
    "    break\n",
    "  except ValueError:\n",
    "      print(\"Valor incorrecto. Por favor ingresar un número.\")  \n",
    "      continue\n",
    "\n",
    "montoFinal = pesos * (1 + ( interes / 100 ) ) ** duracion\n",
    "\n",
    "print(f\"El cálculo del préstamo con un capital de {pesos} pesos, una tasa de interés del {interes}%, y una duración de {duracion} años es de: {montoFinal}\")"
   ]
  }
 ],
 "metadata": {
  "interpreter": {
   "hash": "bdd3a57b6cdf6db47e9f50f57b3e927b486ceba2df79490d0923cbea64e31dc7"
  },
  "kernelspec": {
   "display_name": "Python 3.10.0 64-bit",
   "name": "python3"
  },
  "language_info": {
   "codemirror_mode": {
    "name": "ipython",
    "version": 3
   },
   "file_extension": ".py",
   "mimetype": "text/x-python",
   "name": "python",
   "nbconvert_exporter": "python",
   "pygments_lexer": "ipython3",
   "version": "3.10.0"
  },
  "orig_nbformat": 4
 },
 "nbformat": 4,
 "nbformat_minor": 2
}
