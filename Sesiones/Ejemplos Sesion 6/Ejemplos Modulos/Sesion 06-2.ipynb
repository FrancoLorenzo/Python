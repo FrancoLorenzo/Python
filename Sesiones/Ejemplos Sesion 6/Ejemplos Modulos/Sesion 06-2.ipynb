{
 "cells": [
  {
   "cell_type": "markdown",
   "id": "ec0707d6",
   "metadata": {},
   "source": [
    "# Modulos"
   ]
  },
  {
   "cell_type": "code",
   "execution_count": 1,
   "id": "e5bd915b",
   "metadata": {},
   "outputs": [],
   "source": [
    "import os"
   ]
  },
  {
   "cell_type": "code",
   "execution_count": 5,
   "id": "7743c449",
   "metadata": {},
   "outputs": [
    {
     "data": {
      "text/plain": [
       "'C:\\\\Users\\\\Maricel\\\\Desktop\\\\Python-Basico\\\\Sesion 06'"
      ]
     },
     "execution_count": 5,
     "metadata": {},
     "output_type": "execute_result"
    }
   ],
   "source": [
    "os.getcwd()"
   ]
  },
  {
   "cell_type": "code",
   "execution_count": 6,
   "id": "d64b308f",
   "metadata": {},
   "outputs": [],
   "source": [
    "os.makedirs('C:\\\\Users\\\\Maricel\\\\Desktop\\\\Python-Basico\\\\Sesion 06\\\\PruebaOS')"
   ]
  },
  {
   "cell_type": "code",
   "execution_count": 7,
   "id": "d374ef7a",
   "metadata": {},
   "outputs": [],
   "source": [
    "path = 'C:\\\\Users\\\\Maricel\\\\Desktop\\\\Python-Basico\\\\Sesion 06\\\\PruebaOS\\\\setup.py'"
   ]
  },
  {
   "cell_type": "code",
   "execution_count": 8,
   "id": "0e074e40",
   "metadata": {},
   "outputs": [
    {
     "data": {
      "text/plain": [
       "'setup.py'"
      ]
     },
     "execution_count": 8,
     "metadata": {},
     "output_type": "execute_result"
    }
   ],
   "source": [
    "os.path.basename(path)"
   ]
  },
  {
   "cell_type": "code",
   "execution_count": 9,
   "id": "2177fb61",
   "metadata": {},
   "outputs": [
    {
     "data": {
      "text/plain": [
       "'C:\\\\Users\\\\Maricel\\\\Desktop\\\\Python-Basico\\\\Sesion 06\\\\PruebaOS'"
      ]
     },
     "execution_count": 9,
     "metadata": {},
     "output_type": "execute_result"
    }
   ],
   "source": [
    "os.path.dirname(path)"
   ]
  },
  {
   "cell_type": "code",
   "execution_count": 10,
   "id": "d759f832",
   "metadata": {},
   "outputs": [
    {
     "data": {
      "text/plain": [
       "259"
      ]
     },
     "execution_count": 10,
     "metadata": {},
     "output_type": "execute_result"
    }
   ],
   "source": [
    "os.path.getsize(path)"
   ]
  },
  {
   "cell_type": "code",
   "execution_count": 13,
   "id": "4af1709e",
   "metadata": {},
   "outputs": [
    {
     "name": "stdout",
     "output_type": "stream",
     "text": [
      "True\n",
      "False\n",
      "True\n",
      "False\n",
      "False\n",
      "True\n"
     ]
    }
   ],
   "source": [
    "print(os.path.exists('C:\\\\Windows'))\n",
    "print(os.path.exists('C:\\\\some_made_up_folder'))\n",
    "print(os.path.isdir('C:\\\\Windows\\\\System32'))\n",
    "print(os.path.isfile('C:\\\\Windows\\\\System32'))\n",
    "print(os.path.isdir('C:\\\\Windows\\\\System32\\\\calc.exe'))\n",
    "print(os.path.isfile('C:\\\\Windows\\\\System32\\\\calc.exe'))"
   ]
  },
  {
   "cell_type": "code",
   "execution_count": 14,
   "id": "c0329af0",
   "metadata": {},
   "outputs": [],
   "source": [
    "import sys"
   ]
  },
  {
   "cell_type": "code",
   "execution_count": 15,
   "id": "02f75549",
   "metadata": {},
   "outputs": [
    {
     "name": "stdout",
     "output_type": "stream",
     "text": [
      "['C:\\\\Users\\\\Maricel\\\\anaconda3\\\\envs\\\\Python-Basico\\\\lib\\\\site-packages\\\\ipykernel_launcher.py', '-f', 'C:\\\\Users\\\\Maricel\\\\AppData\\\\Roaming\\\\jupyter\\\\runtime\\\\kernel-db247ec3-ee09-4d5f-9220-45a879423521.json']\n"
     ]
    }
   ],
   "source": [
    "print(sys.argv)"
   ]
  },
  {
   "cell_type": "code",
   "execution_count": 16,
   "id": "df0aeea8",
   "metadata": {},
   "outputs": [
    {
     "data": {
      "text/plain": [
       "['C:\\\\Users\\\\Maricel\\\\Desktop\\\\Python-Basico\\\\Sesion 06',\n",
       " 'C:\\\\Users\\\\Maricel\\\\anaconda3\\\\envs\\\\Python-Basico\\\\python38.zip',\n",
       " 'C:\\\\Users\\\\Maricel\\\\anaconda3\\\\envs\\\\Python-Basico\\\\DLLs',\n",
       " 'C:\\\\Users\\\\Maricel\\\\anaconda3\\\\envs\\\\Python-Basico\\\\lib',\n",
       " 'C:\\\\Users\\\\Maricel\\\\anaconda3\\\\envs\\\\Python-Basico',\n",
       " '',\n",
       " 'C:\\\\Users\\\\Maricel\\\\anaconda3\\\\envs\\\\Python-Basico\\\\lib\\\\site-packages',\n",
       " 'C:\\\\Users\\\\Maricel\\\\anaconda3\\\\envs\\\\Python-Basico\\\\lib\\\\site-packages\\\\win32',\n",
       " 'C:\\\\Users\\\\Maricel\\\\anaconda3\\\\envs\\\\Python-Basico\\\\lib\\\\site-packages\\\\win32\\\\lib',\n",
       " 'C:\\\\Users\\\\Maricel\\\\anaconda3\\\\envs\\\\Python-Basico\\\\lib\\\\site-packages\\\\Pythonwin',\n",
       " 'C:\\\\Users\\\\Maricel\\\\anaconda3\\\\envs\\\\Python-Basico\\\\lib\\\\site-packages\\\\IPython\\\\extensions',\n",
       " 'C:\\\\Users\\\\Maricel\\\\.ipython']"
      ]
     },
     "execution_count": 16,
     "metadata": {},
     "output_type": "execute_result"
    }
   ],
   "source": [
    "sys.path"
   ]
  },
  {
   "cell_type": "code",
   "execution_count": 17,
   "id": "b5912e27",
   "metadata": {},
   "outputs": [
    {
     "data": {
      "text/plain": [
       "'3.8.12 (default, Oct 12 2021, 03:01:40) [MSC v.1916 64 bit (AMD64)]'"
      ]
     },
     "execution_count": 17,
     "metadata": {},
     "output_type": "execute_result"
    }
   ],
   "source": [
    "sys.version"
   ]
  },
  {
   "cell_type": "code",
   "execution_count": 18,
   "id": "f8ad6461",
   "metadata": {},
   "outputs": [],
   "source": [
    "import webbrowser"
   ]
  },
  {
   "cell_type": "code",
   "execution_count": 19,
   "id": "f1eb3639",
   "metadata": {},
   "outputs": [
    {
     "data": {
      "text/plain": [
       "True"
      ]
     },
     "execution_count": 19,
     "metadata": {},
     "output_type": "execute_result"
    }
   ],
   "source": [
    "webbrowser.open(\"http://www.python.org\", new=2, autoraise=True)"
   ]
  },
  {
   "cell_type": "code",
   "execution_count": 21,
   "id": "2f6093c2",
   "metadata": {},
   "outputs": [
    {
     "data": {
      "text/plain": [
       "True"
      ]
     },
     "execution_count": 21,
     "metadata": {},
     "output_type": "execute_result"
    }
   ],
   "source": [
    "webbrowser.open_new(\"https://pypi.python.org/pypi\")"
   ]
  },
  {
   "cell_type": "code",
   "execution_count": 22,
   "id": "ccc87e42",
   "metadata": {},
   "outputs": [
    {
     "data": {
      "text/plain": [
       "True"
      ]
     },
     "execution_count": 22,
     "metadata": {},
     "output_type": "execute_result"
    }
   ],
   "source": [
    "webbrowser.open_new_tab(\"https://www.python.org/psf-landing/\")"
   ]
  },
  {
   "cell_type": "code",
   "execution_count": 26,
   "id": "2aceea72",
   "metadata": {},
   "outputs": [
    {
     "data": {
      "text/plain": [
       "False"
      ]
     },
     "execution_count": 26,
     "metadata": {},
     "output_type": "execute_result"
    }
   ],
   "source": [
    "comando = \"/usr/bin/firefox %s\"\n",
    "nav3 = webbrowser.get(comando)\n",
    "webbrowser.register(\"navegador\", None, nav3)\n",
    "webbrowser.get(\"navegador\").open(\"http://www.python.org\")"
   ]
  },
  {
   "cell_type": "code",
   "execution_count": 27,
   "id": "c2b1e375",
   "metadata": {},
   "outputs": [
    {
     "name": "stdout",
     "output_type": "stream",
     "text": [
      "No se ha encontrado 'firefox'.\n",
      "No se ha encontrado 'opera'.\n",
      "No se ha encontrado 'mosaic'.\n",
      "Navegador por defecto.\n"
     ]
    }
   ],
   "source": [
    "browser = None\n",
    "browsers = (\"firefox\", \"opera\", \"mosaic\", None)\n",
    "for b in browsers:\n",
    "    try:\n",
    "        browser = webbrowser.get(b)\n",
    "    except webbrowser.Error:\n",
    "        if b is None:\n",
    "            print(\"No hay navegador registrado.\")\n",
    "        else:\n",
    "            print(\"No se ha encontrado '%s'.\" % b)\n",
    "    else:\n",
    "        if b is None:\n",
    "            print(\"Navegador por defecto.\")\n",
    "        else:\n",
    "            print(\"Navegador '%s'.\" % b)"
   ]
  },
  {
   "cell_type": "code",
   "execution_count": 29,
   "id": "8c4e7c6e",
   "metadata": {},
   "outputs": [
    {
     "name": "stdout",
     "output_type": "stream",
     "text": [
      "No se ha encontrado Chrome.\n"
     ]
    }
   ],
   "source": [
    "webbrowser.open_new_tab(\"http://www.recursospython.com/\")\n",
    "# Abrir una nueva ventana en Chrome\n",
    "try:\n",
    "    webbrowser.get(\"chrome\").open_new(\"http://www.recursospython.com/\")\n",
    "except webbrowser.Error:\n",
    "    print(\"No se ha encontrado Chrome.\")"
   ]
  }
 ],
 "metadata": {
  "kernelspec": {
   "display_name": "Python 3 (ipykernel)",
   "language": "python",
   "name": "python3"
  },
  "language_info": {
   "codemirror_mode": {
    "name": "ipython",
    "version": 3
   },
   "file_extension": ".py",
   "mimetype": "text/x-python",
   "name": "python",
   "nbconvert_exporter": "python",
   "pygments_lexer": "ipython3",
   "version": "3.8.12"
  }
 },
 "nbformat": 4,
 "nbformat_minor": 5
}
