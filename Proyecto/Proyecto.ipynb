{
 "cells": [
  {
   "cell_type": "markdown",
   "metadata": {},
   "source": [
    "# Diccionario de verbos rusos - Franco Lorenzo"
   ]
  },
  {
   "cell_type": "markdown",
   "metadata": {},
   "source": [
    "### Problema: Los estudiantes del idioma ruso necesitan una herramienta que les permita aprender los verbos en ruso y la conjugación con sus respectivos pronombres.\n",
    "\n",
    "### Solución: Desarrollar un programa tipo diccionario capaz de solicitar al usuario un verbo en ruso (sin importar si esta en mayúscula o minúscula) y retornar su signficado y la tabla de conjugación del verbo.\n",
    "\n",
    "### Caractrísticas:\n",
    "- El diccionario de verbos rusos es un programa de consola que recibe un string por parte del usuario. \n",
    "- El programa analiza el string del usuario; si el string es un verbo ruso válido, el programa retorna el significado del verbo y su tabla de conjugación. Si el verbo no es válido, el programa le solicitará al usuario un nuevo string.\n",
    "- El programa lee un archivo .csv que contiene los verbos rusos válidos y su significado.\n",
    "- El programa realiza un web scrapping a la página: http://masterrussian.com/verbs/conjugations.htm para obtener e imprimir la conjugación del verbo ruso solicitado por el usuario."
   ]
  },
  {
   "cell_type": "code",
   "execution_count": 5,
   "metadata": {},
   "outputs": [
    {
     "name": "stdout",
     "output_type": "stream",
     "text": [
      "Su palabra no es válida.\n",
      "Su palabra no es válida.\n",
      "Su palabra no es válida.\n",
      "Su palabra no es válida.\n",
      "Su palabra no es válida.\n",
      "врать >>> significa >>> to lie, tell lies\n",
      "\n",
      "------------------------------------------Tabla de Conjugación-----------------------------------\n",
      "-------------------------------------------------------------------------------------------------\n",
      "    0                    1                  2\n",
      "0 NaN  IMPERFECTIVE ASPECT  PERFECTIVE ASPECT\n",
      "------------------------------------------Present Tense------------------------------------------\n",
      "                                  0      1  2\n",
      "0           1st Person Singular - я   вру́  -\n",
      "1          2nd Person Singular - ты  врёшь  -\n",
      "2  3rd Person Singular - он/она/оно   врёт  -\n",
      "3            1st Person Plural - мы   врём  -\n",
      "4            2nd Person Plural - вы  врёте  -\n",
      "5           3rd Person Plural - они  вру́т  -\n",
      "------------------------------------------Past Tense---------------------------------------------\n",
      "                  0                         1         2\n",
      "0  Masculine - я/он                      врал   совра́л\n",
      "1   Feminine- я/она                    врала́  соврала́\n",
      "2       Neuter- оно                    вра́ло  совра́ло\n",
      "3        Plural- мы  вра́ли masterrussian.com  совра́ли\n",
      "------------------------------------------Future Tense-------------------------------------------\n",
      "                                 0             1         2\n",
      "0          1st Person Singular - я    буду врать   совру́m\n",
      "1          2nd Person Singular- ты  будешь врать  соврёшьa\n",
      "2  3rd Person Singular- он/она/оно   будет врать   соврётs\n",
      "3            1st Person Plural- мы   будем врать   соврёмt\n",
      "4            2nd Person Plural- вы  будете врать  соврётеe\n",
      "5           3rd Person Plural- они   будут врать  совру́тr\n"
     ]
    }
   ],
   "source": [
    "import csv\n",
    "import pandas as pd\n",
    "\n",
    "# Clase diccionario que recibe y procesa la información brindada por el usuario.\n",
    "class diccionario():\n",
    "    def __init__(self): # constructor.\n",
    "        self.significado = {} # diccionario python que se encarga de obtner el significado del verbo ruso.\n",
    "        self.url = {} # diccionario python que se encarga de obtener la dirección URL correcta para desplegar la conjugación del verbo.\n",
    "    \n",
    "    # Función que lee el archivo russian_verbs.csv y actualiza los diccionarios significado y url.\n",
    "    def crearDiccionario(self):\n",
    "        with open('russian_verbs.csv', newline='', encoding='utf8') as csvfile: # el atributo encoding='utf8' permite leer caracteres especiales.\n",
    "            reader = csv.DictReader(csvfile)\n",
    "\n",
    "            for row in reader:\n",
    "                self.significado.update({ row['\\ufeffVerb'] : row['Meaning'] })\n",
    "                self.url.update({ row['\\ufeffVerb'] : row['URL'] })\n",
    "\n",
    "    # Función que valida si el string que brinda el usuario es un verbo ruso válido.\n",
    "    def validarPalabra(self, palabra):\n",
    "        self.palabra = palabra\n",
    "        return self.significado.get(self.palabra)\n",
    "\n",
    "    # Función que muestra el significado del verbo ruso solicitado por el usuario.\n",
    "    def mostrarSignificado(self):\n",
    "        print(f'{self.palabra} >>> significa >>> {self.significado.get(self.palabra)}')\n",
    "    \n",
    "    # Función que genera un web scrapping con Pandas para obtener la tabla de conjugación del verbo solicitado por el usuario.\n",
    "    def mostrarConjugacion(self):\n",
    "        df = pd.read_html('http://masterrussian.com/verbs/' + self.url.get(self.palabra))\n",
    "        \n",
    "        print('')\n",
    "        print('------------------------------------------Tabla de Conjugación-----------------------------------')\n",
    "        print('-------------------------------------------------------------------------------------------------')\n",
    "        print(df[1])\n",
    "        print('------------------------------------------Present Tense------------------------------------------')\n",
    "        print(df[3])\n",
    "        print('------------------------------------------Past Tense---------------------------------------------')\n",
    "        print(df[4])\n",
    "        print('------------------------------------------Future Tense-------------------------------------------')\n",
    "        print(df[5])\n",
    "\n",
    "palabra = (input('Ingrese su palabra: ')).lower()\n",
    "diccionario = diccionario()\n",
    "diccionario.crearDiccionario()\n",
    "validacion = diccionario.validarPalabra(palabra)\n",
    "\n",
    "while validacion == None:\n",
    "    print(\"Su palabra no es válida.\")\n",
    "    palabra = (input('Ingrese su palabra: ')).lower()\n",
    "    validacion = diccionario.validarPalabra(palabra)\n",
    "\n",
    "diccionario.mostrarSignificado()\n",
    "diccionario.mostrarConjugacion()"
   ]
  }
 ],
 "metadata": {
  "interpreter": {
   "hash": "bdd3a57b6cdf6db47e9f50f57b3e927b486ceba2df79490d0923cbea64e31dc7"
  },
  "kernelspec": {
   "display_name": "Python 3.10.0 64-bit",
   "language": "python",
   "name": "python3"
  },
  "language_info": {
   "codemirror_mode": {
    "name": "ipython",
    "version": 3
   },
   "file_extension": ".py",
   "mimetype": "text/x-python",
   "name": "python",
   "nbconvert_exporter": "python",
   "pygments_lexer": "ipython3",
   "version": "3.10.0"
  },
  "orig_nbformat": 4
 },
 "nbformat": 4,
 "nbformat_minor": 2
}
