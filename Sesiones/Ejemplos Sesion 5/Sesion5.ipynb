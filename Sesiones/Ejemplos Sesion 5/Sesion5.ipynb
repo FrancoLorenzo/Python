{
 "cells": [
  {
   "cell_type": "markdown",
   "id": "1e87dc65",
   "metadata": {},
   "source": [
    "# Manipulacion de archivos"
   ]
  },
  {
   "cell_type": "code",
   "execution_count": 1,
   "id": "f3bd68dc",
   "metadata": {},
   "outputs": [
    {
     "name": "stdout",
     "output_type": "stream",
     "text": [
      "<_io.TextIOWrapper name='mbox.txt' mode='r' encoding='cp1252'>\n"
     ]
    }
   ],
   "source": [
    "manejador_archivo = open('mbox.txt')\n",
    "print(manejador_archivo)"
   ]
  },
  {
   "cell_type": "code",
   "execution_count": 2,
   "id": "0e51bcd4",
   "metadata": {},
   "outputs": [
    {
     "ename": "FileNotFoundError",
     "evalue": "[Errno 2] No such file or directory: 'stuff.txt'",
     "output_type": "error",
     "traceback": [
      "\u001b[1;31m---------------------------------------------------------------------------\u001b[0m",
      "\u001b[1;31mFileNotFoundError\u001b[0m                         Traceback (most recent call last)",
      "\u001b[1;32m~\\AppData\\Local\\Temp/ipykernel_19348/2724712510.py\u001b[0m in \u001b[0;36m<module>\u001b[1;34m\u001b[0m\n\u001b[0;32m      1\u001b[0m \u001b[1;31m#Falla del archivo\u001b[0m\u001b[1;33m\u001b[0m\u001b[1;33m\u001b[0m\u001b[1;33m\u001b[0m\u001b[0m\n\u001b[1;32m----> 2\u001b[1;33m \u001b[0mmanejador_archivo\u001b[0m \u001b[1;33m=\u001b[0m \u001b[0mopen\u001b[0m\u001b[1;33m(\u001b[0m\u001b[1;34m'stuff.txt'\u001b[0m\u001b[1;33m)\u001b[0m\u001b[1;33m\u001b[0m\u001b[1;33m\u001b[0m\u001b[0m\n\u001b[0m",
      "\u001b[1;31mFileNotFoundError\u001b[0m: [Errno 2] No such file or directory: 'stuff.txt'"
     ]
    }
   ],
   "source": [
    "#Falla del archivo\n",
    "manejador_archivo = open('stuff.txt')"
   ]
  },
  {
   "cell_type": "code",
   "execution_count": 3,
   "id": "5f327349",
   "metadata": {},
   "outputs": [
    {
     "name": "stdout",
     "output_type": "stream",
     "text": [
      "Contador de líneas: 1909\n"
     ]
    }
   ],
   "source": [
    "man_archivo = open('mbox-short.txt')\n",
    "contador = 0\n",
    "for linea in man_archivo:\n",
    "    contador = contador + 1\n",
    "print('Contador de líneas:', contador)"
   ]
  },
  {
   "cell_type": "code",
   "execution_count": 4,
   "id": "cc136a68",
   "metadata": {},
   "outputs": [
    {
     "name": "stdout",
     "output_type": "stream",
     "text": [
      "94625\n",
      "From stephen.marquar\n"
     ]
    }
   ],
   "source": [
    "manejador_archivo = open('mbox-short.txt')\n",
    "inp = manejador_archivo.read()\n",
    "print(len(inp))\n",
    "print(inp[:20])"
   ]
  },
  {
   "cell_type": "code",
   "execution_count": 7,
   "id": "a95fb16b",
   "metadata": {},
   "outputs": [
    {
     "name": "stdout",
     "output_type": "stream",
     "text": [
      "From: stephen.marquard@uct.ac.za\n",
      "From: louis@media.berkeley.edu\n",
      "From: zqian@umich.edu\n",
      "From: rjlowe@iupui.edu\n",
      "From: zqian@umich.edu\n",
      "From: rjlowe@iupui.edu\n",
      "From: cwen@iupui.edu\n",
      "From: cwen@iupui.edu\n",
      "From: gsilver@umich.edu\n",
      "From: gsilver@umich.edu\n",
      "From: zqian@umich.edu\n",
      "From: gsilver@umich.edu\n",
      "From: wagnermr@iupui.edu\n",
      "From: zqian@umich.edu\n",
      "From: antranig@caret.cam.ac.uk\n",
      "From: gopal.ramasammycook@gmail.com\n",
      "From: david.horwitz@uct.ac.za\n",
      "From: david.horwitz@uct.ac.za\n",
      "From: david.horwitz@uct.ac.za\n",
      "From: david.horwitz@uct.ac.za\n",
      "From: stephen.marquard@uct.ac.za\n",
      "From: louis@media.berkeley.edu\n",
      "From: louis@media.berkeley.edu\n",
      "From: ray@media.berkeley.edu\n",
      "From: cwen@iupui.edu\n",
      "From: cwen@iupui.edu\n",
      "From: cwen@iupui.edu\n"
     ]
    }
   ],
   "source": [
    "man_a = open('mbox-short.txt')\n",
    "contador = 0\n",
    "for linea in man_a:\n",
    "    linea = linea.rstrip() # Elimina los espacios en blanco del lado derecho de la cadena\n",
    "    if linea.startswith('From:'):\n",
    "        print(linea)"
   ]
  },
  {
   "cell_type": "code",
   "execution_count": 8,
   "id": "a5daf006",
   "metadata": {},
   "outputs": [
    {
     "name": "stdout",
     "output_type": "stream",
     "text": [
      "From: stephen.marquard@uct.ac.za\n",
      "From: louis@media.berkeley.edu\n",
      "From: zqian@umich.edu\n",
      "From: rjlowe@iupui.edu\n",
      "From: zqian@umich.edu\n",
      "From: rjlowe@iupui.edu\n",
      "From: cwen@iupui.edu\n",
      "From: cwen@iupui.edu\n",
      "From: gsilver@umich.edu\n",
      "From: gsilver@umich.edu\n",
      "From: zqian@umich.edu\n",
      "From: gsilver@umich.edu\n",
      "From: wagnermr@iupui.edu\n",
      "From: zqian@umich.edu\n",
      "From: antranig@caret.cam.ac.uk\n",
      "From: gopal.ramasammycook@gmail.com\n",
      "From: david.horwitz@uct.ac.za\n",
      "From: david.horwitz@uct.ac.za\n",
      "From: david.horwitz@uct.ac.za\n",
      "From: david.horwitz@uct.ac.za\n",
      "From: stephen.marquard@uct.ac.za\n",
      "From: louis@media.berkeley.edu\n",
      "From: louis@media.berkeley.edu\n",
      "From: ray@media.berkeley.edu\n",
      "From: cwen@iupui.edu\n",
      "From: cwen@iupui.edu\n",
      "From: cwen@iupui.edu\n"
     ]
    }
   ],
   "source": [
    "man_a = open('mbox-short.txt')\n",
    "for linea in man_a:\n",
    "    linea = linea.rstrip()\n",
    "    # Ignorar lineas que no nos interesan\n",
    "    if not linea.startswith('From:'):\n",
    "        continue\n",
    "    # Procesar la linea que nos 'interesa'\n",
    "    print(linea)"
   ]
  },
  {
   "cell_type": "code",
   "execution_count": 9,
   "id": "893a1199",
   "metadata": {},
   "outputs": [
    {
     "name": "stdout",
     "output_type": "stream",
     "text": [
      "From stephen.marquard@uct.ac.za Sat Jan  5 09:14:16 2008\n",
      "X-Authentication-Warning: nakamura.uits.iupui.edu: apache set sender to stephen.marquard@uct.ac.za using -f\n",
      "From: stephen.marquard@uct.ac.za\n",
      "Author: stephen.marquard@uct.ac.za\n",
      "From david.horwitz@uct.ac.za Fri Jan  4 07:02:32 2008\n",
      "X-Authentication-Warning: nakamura.uits.iupui.edu: apache set sender to david.horwitz@uct.ac.za using -f\n",
      "From: david.horwitz@uct.ac.za\n",
      "Author: david.horwitz@uct.ac.za\n",
      "r39753 | david.horwitz@uct.ac.za | 2008-01-04 13:05:51 +0200 (Fri, 04 Jan 2008) | 1 line\n",
      "From david.horwitz@uct.ac.za Fri Jan  4 06:08:27 2008\n",
      "X-Authentication-Warning: nakamura.uits.iupui.edu: apache set sender to david.horwitz@uct.ac.za using -f\n",
      "From: david.horwitz@uct.ac.za\n",
      "Author: david.horwitz@uct.ac.za\n",
      "From david.horwitz@uct.ac.za Fri Jan  4 04:49:08 2008\n",
      "X-Authentication-Warning: nakamura.uits.iupui.edu: apache set sender to david.horwitz@uct.ac.za using -f\n",
      "From: david.horwitz@uct.ac.za\n",
      "Author: david.horwitz@uct.ac.za\n",
      "From david.horwitz@uct.ac.za Fri Jan  4 04:33:44 2008\n",
      "X-Authentication-Warning: nakamura.uits.iupui.edu: apache set sender to david.horwitz@uct.ac.za using -f\n",
      "From: david.horwitz@uct.ac.za\n",
      "Author: david.horwitz@uct.ac.za\n",
      "From stephen.marquard@uct.ac.za Fri Jan  4 04:07:34 2008\n",
      "X-Authentication-Warning: nakamura.uits.iupui.edu: apache set sender to stephen.marquard@uct.ac.za using -f\n",
      "From: stephen.marquard@uct.ac.za\n",
      "Author: stephen.marquard@uct.ac.za\n"
     ]
    }
   ],
   "source": [
    "man_a = open('mbox-short.txt')\n",
    "for linea in man_a:\n",
    "    linea = linea.rstrip()\n",
    "    if linea.find('@uct.ac.za') == -1: continue\n",
    "    print(linea)"
   ]
  },
  {
   "cell_type": "code",
   "execution_count": 10,
   "id": "3bf321d3",
   "metadata": {},
   "outputs": [
    {
     "name": "stdout",
     "output_type": "stream",
     "text": [
      "Ingresa un nombre de archivo: mbox-short.txt\n",
      "Hay 27 lineas de asunto (subject) en mbox-short.txt\n"
     ]
    }
   ],
   "source": [
    "narchivo = input('Ingresa un nombre de archivo: ')\n",
    "man_a = open(narchivo)\n",
    "contador = 0\n",
    "for linea in man_a:\n",
    "    if linea.startswith('Subject:'):\n",
    "        contador = contador + 1\n",
    "print('Hay', contador, 'lineas de asunto (subject) en', narchivo)"
   ]
  },
  {
   "cell_type": "code",
   "execution_count": 12,
   "id": "7809827f",
   "metadata": {},
   "outputs": [
    {
     "name": "stdout",
     "output_type": "stream",
     "text": [
      "Ingresa un nombre de archivo: mbox-shor.txt\n",
      "No se puede abrir el archivo: mbox-shor.txt\n",
      "Hay 0 lineas de asunto (subject) en mbox-shor.txt\n"
     ]
    }
   ],
   "source": [
    "narchivo = input('Ingresa un nombre de archivo: ')\n",
    "try:\n",
    "    man_a = open(narchivo)\n",
    "except:\n",
    "    print('No se puede abrir el archivo:', narchivo)\n",
    "    exit()\n",
    "contador = 0\n",
    "for linea in man_a:\n",
    "    if linea.startswith('Subject:'):\n",
    "        contador = contador + 1\n",
    "print('Hay', contador, 'lineas de asunto (subject) en', narchivo)"
   ]
  },
  {
   "cell_type": "code",
   "execution_count": 1,
   "id": "d14c589c",
   "metadata": {},
   "outputs": [
    {
     "name": "stdout",
     "output_type": "stream",
     "text": [
      "<_io.TextIOWrapper name='salida.txt' mode='w' encoding='cp1252'>\n"
     ]
    }
   ],
   "source": [
    "fsal = open('salida.txt', 'w')\n",
    "print(fsal)"
   ]
  },
  {
   "cell_type": "code",
   "execution_count": 2,
   "id": "74b44c66",
   "metadata": {},
   "outputs": [],
   "source": [
    "linea1 = \"Aquí está el zarzo,\\n\"\n",
    "fsal.write(linea1)\n",
    "linea2 = 'el símbolo de nuestra tierra.\\n'\n",
    "fsal.write(linea2)\n",
    "fsal.close()"
   ]
  },
  {
   "cell_type": "code",
   "execution_count": 3,
   "id": "ad7f9be9",
   "metadata": {},
   "outputs": [],
   "source": [
    "#Crear una nueva carpeta\n",
    "import os\n",
    "os.makedirs(\"Practica\")"
   ]
  },
  {
   "cell_type": "code",
   "execution_count": 4,
   "id": "f331f24b",
   "metadata": {},
   "outputs": [
    {
     "data": {
      "text/plain": [
       "['.ipynb_checkpoints',\n",
       " 'mbox-short.txt',\n",
       " 'mbox.txt',\n",
       " 'Practica',\n",
       " 'salida.txt',\n",
       " 'Sesion5.ipynb']"
      ]
     },
     "execution_count": 4,
     "metadata": {},
     "output_type": "execute_result"
    }
   ],
   "source": [
    "#Listar el contenidos de una carpeta\n",
    "os.listdir(\"./\")"
   ]
  },
  {
   "cell_type": "code",
   "execution_count": 5,
   "id": "e8345930",
   "metadata": {},
   "outputs": [
    {
     "data": {
      "text/plain": [
       "'C:\\\\Users\\\\Maricel\\\\Desktop\\\\Python-Basico\\\\Sesion 05'"
      ]
     },
     "execution_count": 5,
     "metadata": {},
     "output_type": "execute_result"
    }
   ],
   "source": [
    "#Mostrar el actual directorio de trabajo\n",
    "os.getcwd()"
   ]
  },
  {
   "cell_type": "code",
   "execution_count": 6,
   "id": "3b95b002",
   "metadata": {},
   "outputs": [
    {
     "data": {
      "text/plain": [
       "0"
      ]
     },
     "execution_count": 6,
     "metadata": {},
     "output_type": "execute_result"
    }
   ],
   "source": [
    "#Mostrar el tamaño del archivo en bytes del archivo pasado en parámetro\n",
    "os.path.getsize(\"Practica\")"
   ]
  },
  {
   "cell_type": "code",
   "execution_count": 7,
   "id": "e8ddc7a8",
   "metadata": {},
   "outputs": [
    {
     "data": {
      "text/plain": [
       "False"
      ]
     },
     "execution_count": 7,
     "metadata": {},
     "output_type": "execute_result"
    }
   ],
   "source": [
    "#¿Es un archivo el parámetro pasado?\n",
    "os.path.isfile(\"Practica\")"
   ]
  },
  {
   "cell_type": "code",
   "execution_count": 8,
   "id": "297588da",
   "metadata": {},
   "outputs": [
    {
     "data": {
      "text/plain": [
       "True"
      ]
     },
     "execution_count": 8,
     "metadata": {},
     "output_type": "execute_result"
    }
   ],
   "source": [
    "#¿Es una carpeta el parámetro pasado?\n",
    "os.path.isdir(\"Practica\")"
   ]
  },
  {
   "cell_type": "code",
   "execution_count": 10,
   "id": "2b19e898",
   "metadata": {},
   "outputs": [
    {
     "data": {
      "text/plain": [
       "['.ipynb_checkpoints',\n",
       " 'mbox-short.txt',\n",
       " 'mbox.txt',\n",
       " 'PracticaV1',\n",
       " 'salida.txt',\n",
       " 'Sesion5.ipynb']"
      ]
     },
     "execution_count": 10,
     "metadata": {},
     "output_type": "execute_result"
    }
   ],
   "source": [
    "#Renombrar un archivo\n",
    "os.rename(\"Practica\",\"PracticaV1\")\n",
    "os.listdir(\"./\")"
   ]
  },
  {
   "cell_type": "code",
   "execution_count": 11,
   "id": "a461fb5b",
   "metadata": {},
   "outputs": [],
   "source": [
    "#Eliminar un archivo\n",
    "os.chdir(\"PracticaV1\")\n",
    "archivo = open(os.getcwd()+'/datos.txt', 'w')\n",
    "archivo.write(\"Se Feliz!\")\n",
    "archivo.close()"
   ]
  },
  {
   "cell_type": "code",
   "execution_count": 12,
   "id": "92f08bc0",
   "metadata": {},
   "outputs": [
    {
     "data": {
      "text/plain": [
       "[]"
      ]
     },
     "execution_count": 12,
     "metadata": {},
     "output_type": "execute_result"
    }
   ],
   "source": [
    "os.getcwd()\n",
    "os.listdir(\"./\")\n",
    "os.remove(os.getcwd()+\"/datos.txt\")\n",
    "os.listdir(\"./\")"
   ]
  }
 ],
 "metadata": {
  "kernelspec": {
   "display_name": "Python 3 (ipykernel)",
   "language": "python",
   "name": "python3"
  },
  "language_info": {
   "codemirror_mode": {
    "name": "ipython",
    "version": 3
   },
   "file_extension": ".py",
   "mimetype": "text/x-python",
   "name": "python",
   "nbconvert_exporter": "python",
   "pygments_lexer": "ipython3",
   "version": "3.8.12"
  }
 },
 "nbformat": 4,
 "nbformat_minor": 5
}
