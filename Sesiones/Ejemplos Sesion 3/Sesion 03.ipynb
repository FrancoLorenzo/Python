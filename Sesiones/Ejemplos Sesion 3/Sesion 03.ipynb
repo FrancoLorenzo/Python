{
 "cells": [
  {
   "cell_type": "markdown",
   "id": "dcf3900e",
   "metadata": {},
   "source": [
    "# Programacion orientada a Objetos"
   ]
  },
  {
   "cell_type": "code",
   "execution_count": 1,
   "id": "f8c23db4",
   "metadata": {},
   "outputs": [],
   "source": [
    "class GrupoAnimal:\n",
    "    x = 0\n",
    "    def __init__(self):\n",
    "        print('Estoy construido')\n",
    "\n",
    "    def grupo(self) :\n",
    "        self.x = self.x + 1\n",
    "        print('Hasta ahora',self.x)\n",
    "\n",
    "    def __del__(self):\n",
    "        print('Estoy destruido', self.x)"
   ]
  },
  {
   "cell_type": "code",
   "execution_count": 2,
   "id": "b344674d",
   "metadata": {},
   "outputs": [
    {
     "name": "stdout",
     "output_type": "stream",
     "text": [
      "Estoy construido\n",
      "Hasta ahora 1\n",
      "Hasta ahora 2\n",
      "Estoy destruido 2\n",
      "an contiene 42\n"
     ]
    }
   ],
   "source": [
    "an = GrupoAnimal()\n",
    "an.grupo()\n",
    "an.grupo()\n",
    "an = 42\n",
    "print('an contiene',an)"
   ]
  },
  {
   "cell_type": "code",
   "execution_count": 3,
   "id": "a3a015cb",
   "metadata": {},
   "outputs": [],
   "source": [
    "class GrupoAnimal:\n",
    "    x = 0\n",
    "    nombre = ''\n",
    "    \n",
    "    def __init__(self, nom):\n",
    "        self.nombre = nom\n",
    "        print(self.nombre,'construido')\n",
    "\n",
    "    def grupo(self) :\n",
    "        self.x = self.x + 1\n",
    "        print(self.nombre,'recuento grupal',self.x)"
   ]
  },
  {
   "cell_type": "code",
   "execution_count": 4,
   "id": "e60dd810",
   "metadata": {},
   "outputs": [
    {
     "name": "stdout",
     "output_type": "stream",
     "text": [
      "Sally construido\n",
      "Jim construido\n",
      "Sally recuento grupal 1\n",
      "Jim recuento grupal 1\n",
      "Sally recuento grupal 2\n"
     ]
    }
   ],
   "source": [
    "s = GrupoAnimal('Sally')\n",
    "j = GrupoAnimal('Jim')\n",
    "s.grupo()\n",
    "j.grupo()\n",
    "s.grupo()"
   ]
  },
  {
   "cell_type": "markdown",
   "id": "2fbc1c12",
   "metadata": {},
   "source": [
    "## Herencia"
   ]
  },
  {
   "cell_type": "code",
   "execution_count": 24,
   "id": "8d6aec43",
   "metadata": {},
   "outputs": [],
   "source": [
    "# Definimos una clase padre\n",
    "class Animal:\n",
    "    def __init__(self, especie, edad, patas):\n",
    "        self.especie = especie\n",
    "        self.edad = edad\n",
    "        self.patas = patas\n",
    "    \n",
    "    def moverse(self):\n",
    "        print(f\"Caminando con {self.patas} patas\")\n",
    "    \n",
    "    def describeme(self):\n",
    "        print(\"Soy un Animal del tipo\", type(self).__name__)\n",
    "\n",
    "# Creamos una clase hija que hereda de la padre\n",
    "class Perro(Animal):\n",
    "    def __init__(self, especie, edad, patas, propietario):\n",
    "        super().__init__(especie, edad, patas)\n",
    "        self.propietario = propietario"
   ]
  },
  {
   "cell_type": "code",
   "execution_count": 19,
   "id": "6cc274e0",
   "metadata": {},
   "outputs": [
    {
     "name": "stdout",
     "output_type": "stream",
     "text": [
      "(<class '__main__.Animal'>,)\n"
     ]
    }
   ],
   "source": [
    "print(Perro.__bases__)"
   ]
  },
  {
   "cell_type": "code",
   "execution_count": 25,
   "id": "2bae6bd3",
   "metadata": {},
   "outputs": [
    {
     "name": "stdout",
     "output_type": "stream",
     "text": [
      "Soy un Animal del tipo Perro\n",
      "Caminando con 4 patas\n"
     ]
    },
    {
     "data": {
      "text/plain": [
       "'Maria'"
      ]
     },
     "execution_count": 25,
     "metadata": {},
     "output_type": "execute_result"
    }
   ],
   "source": [
    "mi_perro = Perro('mamífero', 10, 4, 'Maria')\n",
    "mi_perro.describeme()\n",
    "mi_perro.moverse()\n",
    "mi_perro.edad\n",
    "mi_perro.propietario"
   ]
  },
  {
   "cell_type": "markdown",
   "id": "afbd539c",
   "metadata": {},
   "source": [
    "### Herencia multiple"
   ]
  },
  {
   "cell_type": "code",
   "execution_count": 26,
   "id": "a972d1c6",
   "metadata": {},
   "outputs": [],
   "source": [
    "class Clase1:\n",
    "    pass\n",
    "class Clase2(Clase1):\n",
    "    pass\n",
    "class Clase3(Clase2):\n",
    "    pass"
   ]
  },
  {
   "cell_type": "code",
   "execution_count": 27,
   "id": "bbab4ae2",
   "metadata": {},
   "outputs": [
    {
     "name": "stdout",
     "output_type": "stream",
     "text": [
      "(<class '__main__.Clase2'>,)\n"
     ]
    }
   ],
   "source": [
    "print(Clase3.__bases__)"
   ]
  },
  {
   "cell_type": "code",
   "execution_count": 28,
   "id": "a10cf2d0",
   "metadata": {},
   "outputs": [],
   "source": [
    "class Clase1:\n",
    "    pass\n",
    "class Clase2:\n",
    "    pass\n",
    "class Clase3(Clase1, Clase2):\n",
    "    pass"
   ]
  },
  {
   "cell_type": "code",
   "execution_count": 29,
   "id": "f641877b",
   "metadata": {},
   "outputs": [
    {
     "name": "stdout",
     "output_type": "stream",
     "text": [
      "(<class '__main__.Clase3'>, <class '__main__.Clase1'>, <class '__main__.Clase2'>, <class 'object'>)\n"
     ]
    }
   ],
   "source": [
    "print(Clase3.__mro__)"
   ]
  }
 ],
 "metadata": {
  "kernelspec": {
   "display_name": "Python 3 (ipykernel)",
   "language": "python",
   "name": "python3"
  },
  "language_info": {
   "codemirror_mode": {
    "name": "ipython",
    "version": 3
   },
   "file_extension": ".py",
   "mimetype": "text/x-python",
   "name": "python",
   "nbconvert_exporter": "python",
   "pygments_lexer": "ipython3",
   "version": "3.8.12"
  }
 },
 "nbformat": 4,
 "nbformat_minor": 5
}
