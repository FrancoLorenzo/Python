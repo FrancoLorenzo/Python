{
 "cells": [
  {
   "cell_type": "markdown",
   "metadata": {},
   "source": [
    "# OpenCV - Introducción"
   ]
  },
  {
   "cell_type": "markdown",
   "metadata": {},
   "source": [
    "## ¿Qué es OpenCV? \n",
    "\n",
    "**OpenCV** (Open Source Computer Vision) es la biblioteca de código abierto más grande que existe en términos de funciones, cuenta con más de 2,500 algoritmos. Comenzó como un proyecto de investigación en Intel. Su primer versión OpenCV 1.0 se lanzó en 2006 y la comunidad de OpenCV ha crecido a pasos agigantados desde entonces. Esta biblioteca soporta interfaces para lenguajes de programación como Python, Java y C++."
   ]
  },
  {
   "cell_type": "markdown",
   "metadata": {},
   "source": [
    "## ¿Cuáles son sus métodos y funciones principales?\n",
    "\n",
    "La siguiente tabla muestra los módulos principales de OpenCV:\n",
    "\n",
    "| Funcionalidad    | Módulo    | Descripción    |\n",
    "| :---        |    :----:   | :---        |\n",
    "| Funcionalidad principal      | **core**      | Define las estructuras de datos básicas. Por ejemplo, la matriz multidimensional Mat (multi-dimensional array Mat).      |\n",
    "| Procesamiento de imágenes      | **imgproc**      | Asiste con el procesamiento de imágenes. Incluye filtrado de imágenes lineales y no lineales, transformaciones geométricas de imágenes (cambio de tamaño, deformación afín y perspectiva, reasignación genérica basada en tablas), conversión de espacio de color, histogramas, entre otros.      |\n",
    "| Análisis de video      | **video**      | Incluye estimación de movimiento, sustracción de fondo y algoritmos de seguimiento de objetos.      |\n",
    "| Camera Calibración de cámara y reconstrucción en 3D      | **calib3d**      | Incluye algoritmos básicos de geometría de múltiples vistas, calibración de cámara única y estéreo, estimación de pose de objeto, algoritmos de correspondencia estéreo y elementos de reconstrucción 3D.      |\n",
    "| Características 2D      | **features2d**      | Incluye detectores de características destacadas, descriptores y comparadores de descriptores.     |\n",
    "| Detección de objetos      | **objdetect**      | Incluye detección de objetos e instancias de las clases predefinidas. Por ejemplo, rostros, ojos, tazas, personas, automóviles, entre otros.     |\n",
    "| Interfaz gráfica de alto nivel      | **highgui**      | Aporta una interfaz para funciones de usuario.      |\n",
    "| Entrada y salida de video      | **videoio**      | Aporta una interfaz para la captura de video y códecs de video.      |\n",
    "\n",
    "**Nota:** Existen otros módulos auxiliares como *FLANN*, *Google test wrappers*, o *Python bindings*. Visite [OpenCV](https://docs.opencv.org/master/modules.html) para obtener más información acerca de los módulos que ofrece OpenCV. "
   ]
  },
  {
   "cell_type": "markdown",
   "metadata": {},
   "source": [
    "# OpenCV - Uso"
   ]
  },
  {
   "cell_type": "markdown",
   "metadata": {},
   "source": [
    "## ¿Como se instala OpenCV?\n",
    "Ejecute el comando de instalación. Si desea descargar el archivo de la librería u obtener más información sobre las últimas actualizaciones, visite [OpenCV-Python](https://pypi.org/project/opencv-python/)"
   ]
  },
  {
   "cell_type": "code",
   "execution_count": null,
   "metadata": {},
   "outputs": [],
   "source": [
    "!pip install opencv-python"
   ]
  },
  {
   "cell_type": "markdown",
   "metadata": {},
   "source": [
    "**Nota:** Para utilizar **OpenCV** de forma óptima, instale las bibliotecas **Numpy** y **Matplotlib** con los siguientes comandos: "
   ]
  },
  {
   "cell_type": "code",
   "execution_count": null,
   "metadata": {},
   "outputs": [],
   "source": [
    "!pip install numpy\n",
    "!pip install matplotlib"
   ]
  },
  {
   "cell_type": "markdown",
   "metadata": {},
   "source": [
    "## ¿Como se utiliza OpenCV?\n",
    "\n",
    "\n",
    "\n",
    "\n",
    "https://revistadigital.inesem.es/informatica-y-tics/opencv/#:~:text=Instalaci%C3%B3n%20en%20Python%20y%20ejemplos%20b%C3%A1sicos%201%20OpenCV,en%20im%C3%A1genes.%20...%206%20Posibilidades%20de%20OpenCV.%20"
   ]
  }
 ],
 "metadata": {
  "interpreter": {
   "hash": "bdd3a57b6cdf6db47e9f50f57b3e927b486ceba2df79490d0923cbea64e31dc7"
  },
  "kernelspec": {
   "display_name": "Python 3.10.0 64-bit",
   "name": "python3"
  },
  "language_info": {
   "codemirror_mode": {
    "name": "ipython",
    "version": 3
   },
   "file_extension": ".py",
   "mimetype": "text/x-python",
   "name": "python",
   "nbconvert_exporter": "python",
   "pygments_lexer": "ipython3",
   "version": "3.10.0"
  },
  "orig_nbformat": 4
 },
 "nbformat": 4,
 "nbformat_minor": 2
}
