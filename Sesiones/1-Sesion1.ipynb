{
 "cells": [
  {
   "cell_type": "markdown",
   "id": "2ea614c3",
   "metadata": {},
   "source": [
    "# Comentarios"
   ]
  },
  {
   "cell_type": "code",
   "execution_count": 3,
   "id": "002584e4",
   "metadata": {},
   "outputs": [],
   "source": [
    "#Este es mi primer codigo"
   ]
  },
  {
   "cell_type": "code",
   "execution_count": 4,
   "id": "cf88e5e9",
   "metadata": {},
   "outputs": [],
   "source": [
    "'''\n",
    "Este es un codigo\n",
    "en bloque \n",
    "para escribir \n",
    "lo que quiera\n",
    "'''\n",
    "var = 2"
   ]
  },
  {
   "cell_type": "markdown",
   "id": "a7ca854e",
   "metadata": {},
   "source": [
    "# Variables"
   ]
  },
  {
   "cell_type": "code",
   "execution_count": 5,
   "id": "c6f9b676",
   "metadata": {},
   "outputs": [],
   "source": [
    "var1 = 1"
   ]
  },
  {
   "cell_type": "code",
   "execution_count": 6,
   "id": "1e79a81c",
   "metadata": {},
   "outputs": [],
   "source": [
    "var2 = 5.5"
   ]
  },
  {
   "cell_type": "code",
   "execution_count": 7,
   "id": "be78909e",
   "metadata": {},
   "outputs": [],
   "source": [
    "var3 = \"Hola\"\n",
    "var4 = \"clase de Python\""
   ]
  },
  {
   "cell_type": "code",
   "execution_count": 8,
   "id": "89f867ff",
   "metadata": {},
   "outputs": [
    {
     "data": {
      "text/plain": [
       "int"
      ]
     },
     "execution_count": 8,
     "metadata": {},
     "output_type": "execute_result"
    }
   ],
   "source": [
    "type(var1)"
   ]
  },
  {
   "cell_type": "code",
   "execution_count": 9,
   "id": "b43355db",
   "metadata": {},
   "outputs": [
    {
     "data": {
      "text/plain": [
       "str"
      ]
     },
     "execution_count": 9,
     "metadata": {},
     "output_type": "execute_result"
    }
   ],
   "source": [
    "type(var3)"
   ]
  },
  {
   "cell_type": "code",
   "execution_count": 10,
   "id": "c721e564",
   "metadata": {},
   "outputs": [],
   "source": [
    "saludo = var3 + ' ' + var4"
   ]
  },
  {
   "cell_type": "code",
   "execution_count": 11,
   "id": "89f2f615",
   "metadata": {},
   "outputs": [
    {
     "data": {
      "text/plain": [
       "'Hola clase de Python'"
      ]
     },
     "execution_count": 11,
     "metadata": {},
     "output_type": "execute_result"
    }
   ],
   "source": [
    "saludo"
   ]
  },
  {
   "cell_type": "code",
   "execution_count": 12,
   "id": "8e088b4e",
   "metadata": {},
   "outputs": [
    {
     "data": {
      "text/plain": [
       "6.5"
      ]
     },
     "execution_count": 12,
     "metadata": {},
     "output_type": "execute_result"
    }
   ],
   "source": [
    "var1 + var2"
   ]
  },
  {
   "cell_type": "code",
   "execution_count": 13,
   "id": "36b85c17",
   "metadata": {},
   "outputs": [
    {
     "ename": "TypeError",
     "evalue": "unsupported operand type(s) for +: 'int' and 'str'",
     "output_type": "error",
     "traceback": [
      "\u001b[1;31m---------------------------------------------------------------------------\u001b[0m",
      "\u001b[1;31mTypeError\u001b[0m                                 Traceback (most recent call last)",
      "\u001b[1;32m~\\AppData\\Local\\Temp/ipykernel_2528/2326005326.py\u001b[0m in \u001b[0;36m<module>\u001b[1;34m\u001b[0m\n\u001b[1;32m----> 1\u001b[1;33m \u001b[0mvar1\u001b[0m \u001b[1;33m+\u001b[0m \u001b[0mvar3\u001b[0m\u001b[1;33m\u001b[0m\u001b[1;33m\u001b[0m\u001b[0m\n\u001b[0m",
      "\u001b[1;31mTypeError\u001b[0m: unsupported operand type(s) for +: 'int' and 'str'"
     ]
    }
   ],
   "source": [
    "var1 + var3 #Presentara un error porque no se puede operar tipos de variables diferentes"
   ]
  },
  {
   "cell_type": "code",
   "execution_count": 14,
   "id": "3d9d9231",
   "metadata": {},
   "outputs": [],
   "source": [
    "var5 = 'adv3 sjvfnglk34567.['"
   ]
  },
  {
   "cell_type": "code",
   "execution_count": 16,
   "id": "b648192b",
   "metadata": {},
   "outputs": [
    {
     "data": {
      "text/plain": [
       "str"
      ]
     },
     "execution_count": 16,
     "metadata": {},
     "output_type": "execute_result"
    }
   ],
   "source": [
    "type(var5)"
   ]
  },
  {
   "cell_type": "code",
   "execution_count": 25,
   "id": "b41c74d8",
   "metadata": {},
   "outputs": [
    {
     "name": "stdout",
     "output_type": "stream",
     "text": [
      "Esto es un ejemplo de numero: 5.5\n"
     ]
    }
   ],
   "source": [
    "print(\"Esto es un ejemplo de numero: \" + str(var2))"
   ]
  },
  {
   "cell_type": "code",
   "execution_count": 26,
   "id": "cca37197",
   "metadata": {},
   "outputs": [
    {
     "name": "stdout",
     "output_type": "stream",
     "text": [
      "5.5\n"
     ]
    }
   ],
   "source": [
    "print(var2)"
   ]
  },
  {
   "cell_type": "code",
   "execution_count": 27,
   "id": "eb7968d6",
   "metadata": {},
   "outputs": [
    {
     "data": {
      "text/plain": [
       "int"
      ]
     },
     "execution_count": 27,
     "metadata": {},
     "output_type": "execute_result"
    }
   ],
   "source": [
    "var6 = '5'\n",
    "int(var6)\n",
    "type(int(var6))"
   ]
  },
  {
   "cell_type": "markdown",
   "id": "264bcb91",
   "metadata": {},
   "source": [
    "# Operadores"
   ]
  },
  {
   "cell_type": "code",
   "execution_count": 28,
   "id": "70757a8d",
   "metadata": {},
   "outputs": [],
   "source": [
    "var7 = 'Hola '\n",
    "var8 = 'mundo'"
   ]
  },
  {
   "cell_type": "code",
   "execution_count": 31,
   "id": "cc15017c",
   "metadata": {},
   "outputs": [
    {
     "data": {
      "text/plain": [
       "'Hola Hola Hola mundo'"
      ]
     },
     "execution_count": 31,
     "metadata": {},
     "output_type": "execute_result"
    }
   ],
   "source": [
    "var9 = (var7 * 3) + var8\n",
    "var9 "
   ]
  },
  {
   "cell_type": "code",
   "execution_count": 32,
   "id": "8e1e0450",
   "metadata": {},
   "outputs": [
    {
     "data": {
      "text/plain": [
       "15"
      ]
     },
     "execution_count": 32,
     "metadata": {},
     "output_type": "execute_result"
    }
   ],
   "source": [
    "var9.find(\"mundo\")"
   ]
  },
  {
   "cell_type": "code",
   "execution_count": 33,
   "id": "54671fdc",
   "metadata": {},
   "outputs": [
    {
     "data": {
      "text/plain": [
       "'HOLA HOLA HOLA MUNDO'"
      ]
     },
     "execution_count": 33,
     "metadata": {},
     "output_type": "execute_result"
    }
   ],
   "source": [
    "var9.upper()"
   ]
  },
  {
   "cell_type": "code",
   "execution_count": 34,
   "id": "b1bda9b2",
   "metadata": {},
   "outputs": [
    {
     "data": {
      "text/plain": [
       "'hola hola hola mundo'"
      ]
     },
     "execution_count": 34,
     "metadata": {},
     "output_type": "execute_result"
    }
   ],
   "source": [
    "var9.lower()"
   ]
  },
  {
   "cell_type": "code",
   "execution_count": 38,
   "id": "1d01af97",
   "metadata": {},
   "outputs": [
    {
     "data": {
      "text/plain": [
       "'Adios Adios Adios mundo'"
      ]
     },
     "execution_count": 38,
     "metadata": {},
     "output_type": "execute_result"
    }
   ],
   "source": [
    "var9.replace(\"Hola\", \"Adios\")"
   ]
  },
  {
   "cell_type": "code",
   "execution_count": 40,
   "id": "76b39787",
   "metadata": {},
   "outputs": [
    {
     "name": "stdout",
     "output_type": "stream",
     "text": [
      "Ingrese el valor de x: 5\n"
     ]
    }
   ],
   "source": [
    "x = input(\"Ingrese el valor de x: \")"
   ]
  }
 ],
 "metadata": {
  "kernelspec": {
   "display_name": "Python 3 (ipykernel)",
   "language": "python",
   "name": "python3"
  },
  "language_info": {
   "codemirror_mode": {
    "name": "ipython",
    "version": 3
   },
   "file_extension": ".py",
   "mimetype": "text/x-python",
   "name": "python",
   "nbconvert_exporter": "python",
   "pygments_lexer": "ipython3",
   "version": "3.8.12"
  }
 },
 "nbformat": 4,
 "nbformat_minor": 5
}
