{
 "cells": [
  {
   "cell_type": "markdown",
   "id": "fa3055f6",
   "metadata": {},
   "source": [
    "# Estructuras de control"
   ]
  },
  {
   "cell_type": "markdown",
   "id": "458d2167",
   "metadata": {},
   "source": [
    "## If"
   ]
  },
  {
   "cell_type": "code",
   "execution_count": 2,
   "id": "540c5f7e",
   "metadata": {},
   "outputs": [
    {
     "name": "stdout",
     "output_type": "stream",
     "text": [
      "La persona es\n",
      "Mayor\n",
      "de edad\n"
     ]
    }
   ],
   "source": [
    "edad = 25\n",
    "\n",
    "print(\"La persona es\")\n",
    "if edad < 18: # el if termina con : para indicar donde acaba la condición\n",
    "    print(\"Menor\") \n",
    "else:\n",
    "    print(\"Mayor\")\n",
    "    \n",
    "print(\"de edad\")"
   ]
  },
  {
   "cell_type": "markdown",
   "id": "ccf169cc",
   "metadata": {},
   "source": [
    "## For"
   ]
  },
  {
   "cell_type": "code",
   "execution_count": 3,
   "id": "c6264cd3",
   "metadata": {},
   "outputs": [
    {
     "name": "stdout",
     "output_type": "stream",
     "text": [
      "- Impresion de los elementos de la lista:\n",
      "img\n",
      "python\n",
      "numpy\n"
     ]
    }
   ],
   "source": [
    "print(\"- Impresion de los elementos de la lista:\")\n",
    "\n",
    "# Imprimir los strings de mi_lista por separado\n",
    "mi_lista=[\"img\",\"python\",\"numpy\"]\n",
    "for s in mi_lista:\n",
    "    print(s)"
   ]
  },
  {
   "cell_type": "code",
   "execution_count": 4,
   "id": "bcd7f657",
   "metadata": {},
   "outputs": [
    {
     "name": "stdout",
     "output_type": "stream",
     "text": [
      "- La suma de los números es:\n",
      "42\n"
     ]
    }
   ],
   "source": [
    "#calcular la suma de los números e imprimirla\n",
    "suma=0\n",
    "mis_numeros=[5,8,17,12]\n",
    "for numero in mis_numeros:\n",
    "    suma=suma+numero\n",
    "print(\"- La suma de los números es:\")\n",
    "print(suma)"
   ]
  },
  {
   "cell_type": "code",
   "execution_count": 5,
   "id": "1e4d8b76",
   "metadata": {},
   "outputs": [
    {
     "name": "stdout",
     "output_type": "stream",
     "text": [
      "Un for de 0 a 3\n",
      "0\n",
      "1\n",
      "2\n",
      "3\n"
     ]
    }
   ],
   "source": [
    "print(\"Un for de 0 a 3\")\n",
    "for i in range(4):\n",
    "    print(i)"
   ]
  },
  {
   "cell_type": "code",
   "execution_count": 6,
   "id": "acdd56df",
   "metadata": {},
   "outputs": [
    {
     "name": "stdout",
     "output_type": "stream",
     "text": [
      "- Un for de 2 a 5:\n",
      "2\n",
      "3\n",
      "4\n",
      "5\n"
     ]
    }
   ],
   "source": [
    "print(\"- Un for de 2 a 5:\")\n",
    "for j in range(2,6):\n",
    "    print(j)"
   ]
  },
  {
   "cell_type": "markdown",
   "id": "848bfde3",
   "metadata": {},
   "source": [
    "## Funciones"
   ]
  },
  {
   "cell_type": "code",
   "execution_count": 7,
   "id": "3d79a032",
   "metadata": {},
   "outputs": [],
   "source": [
    "def sumar(a,b):\n",
    "    return a+b"
   ]
  },
  {
   "cell_type": "code",
   "execution_count": 8,
   "id": "37921620",
   "metadata": {},
   "outputs": [
    {
     "name": "stdout",
     "output_type": "stream",
     "text": [
      "7\n"
     ]
    }
   ],
   "source": [
    "c=sumar(2,5)\n",
    "print(c)"
   ]
  },
  {
   "cell_type": "code",
   "execution_count": 9,
   "id": "a2458ce0",
   "metadata": {},
   "outputs": [],
   "source": [
    "def sumar_todos(lista):\n",
    "    suma=0\n",
    "    for v in lista:\n",
    "        suma+=v\n",
    "    return suma"
   ]
  },
  {
   "cell_type": "code",
   "execution_count": 10,
   "id": "6686dd0c",
   "metadata": {},
   "outputs": [
    {
     "name": "stdout",
     "output_type": "stream",
     "text": [
      "180\n"
     ]
    }
   ],
   "source": [
    "mi_lista=[54,12,99,15]\n",
    "print(sumar_todos(mi_lista))"
   ]
  },
  {
   "cell_type": "code",
   "execution_count": 1,
   "id": "e94eb15e",
   "metadata": {},
   "outputs": [],
   "source": [
    "def mi_area_rectangulo(base, altura):\n",
    "    return base * altura"
   ]
  },
  {
   "cell_type": "code",
   "execution_count": 2,
   "id": "4e98493d",
   "metadata": {},
   "outputs": [
    {
     "name": "stdout",
     "output_type": "stream",
     "text": [
      "50\n"
     ]
    }
   ],
   "source": [
    "base = 10\n",
    "altura = 5\n",
    "\n",
    "mi_area = mi_area_rectangulo(base, altura)\n",
    "\n",
    "print(mi_area)"
   ]
  },
  {
   "cell_type": "markdown",
   "id": "2a73b7ef",
   "metadata": {},
   "source": [
    "## Do - While"
   ]
  },
  {
   "cell_type": "code",
   "execution_count": 12,
   "id": "5abf267a",
   "metadata": {},
   "outputs": [
    {
     "name": "stdout",
     "output_type": "stream",
     "text": [
      "1\n",
      "2\n",
      "3\n",
      "4\n",
      "5\n",
      "6\n",
      "7\n",
      "8\n",
      "9\n",
      "10\n"
     ]
    }
   ],
   "source": [
    "x = 1\n",
    "\n",
    "while(x <= 10):\n",
    "    print(x)\n",
    "    x = x + 1"
   ]
  },
  {
   "cell_type": "markdown",
   "id": "5770dbfd",
   "metadata": {},
   "source": [
    "## Manejo de errores y excepciones"
   ]
  },
  {
   "cell_type": "code",
   "execution_count": 13,
   "id": "07d6595a",
   "metadata": {},
   "outputs": [
    {
     "name": "stdout",
     "output_type": "stream",
     "text": [
      "An IOError occurred. No such file or directory\n"
     ]
    }
   ],
   "source": [
    "try:\n",
    "    file = open('test.txt', 'rb')\n",
    "except IOError as e:\n",
    "    print('An IOError occurred. {}'.format(e.args[-1]))"
   ]
  },
  {
   "cell_type": "markdown",
   "id": "2b551aec",
   "metadata": {},
   "source": [
    "# Programacion Orientada a Objetos"
   ]
  },
  {
   "cell_type": "markdown",
   "id": "a6b03bf0",
   "metadata": {},
   "source": [
    "## Clases"
   ]
  },
  {
   "cell_type": "code",
   "execution_count": 3,
   "id": "110b2018",
   "metadata": {},
   "outputs": [],
   "source": [
    "class Pato:\n",
    "    def __init__(self, nombre): # constructor\n",
    "        print(f'Me llamo {nombre}')\n",
    "\n",
    "    def hable(self):\n",
    "        print('Quaaack!')\n",
    "\n",
    "    def camine(self):\n",
    "        print('Walks like a duck.')"
   ]
  },
  {
   "cell_type": "code",
   "execution_count": 4,
   "id": "4018cc68",
   "metadata": {},
   "outputs": [
    {
     "name": "stdout",
     "output_type": "stream",
     "text": [
      "Me llamo Luiscito\n",
      "Quaaack!\n"
     ]
    }
   ],
   "source": [
    "luis = Pato('Luiscito')\n",
    "luis.hable()"
   ]
  },
  {
   "cell_type": "code",
   "execution_count": 10,
   "id": "717cadd3",
   "metadata": {},
   "outputs": [],
   "source": [
    "class Persona:\n",
    "    def __str__(self):\n",
    "        return f'Mi nombre es {self.mi_nombre} y mi cedula es {self.mi_cedula}'\n",
    "\n",
    "    def __repr__(self):\n",
    "        return f'Mi nombre es {self.mi_nombre} y mi cedula es {self.mi_cedula}'\n",
    "\n",
    "    def __init__(self, nombre, cedula):\n",
    "        # atributo mi_nombre\n",
    "        self.mi_nombre = nombre\n",
    "        # atributo mi_cedula\n",
    "        self.mi_cedula = cedula\n",
    "        # atributo de mascarilla\n",
    "        self.mascarilla_colocada = False\n",
    "\n",
    "    def ponerse_mascarilla(self, color='celeste'):\n",
    "        print(f'{self.mi_nombre} saca la mascarilla de color {color} de la bolsa')\n",
    "        print(f'{self.mi_nombre} pongase la mascarilla')\n",
    "        self.mascarilla_colocada = True"
   ]
  },
  {
   "cell_type": "code",
   "execution_count": 11,
   "id": "98a78624",
   "metadata": {},
   "outputs": [],
   "source": [
    "juanito = Persona(nombre='Juan', cedula='123456789')"
   ]
  },
  {
   "cell_type": "code",
   "execution_count": 12,
   "id": "a8aa649e",
   "metadata": {},
   "outputs": [
    {
     "name": "stdout",
     "output_type": "stream",
     "text": [
      "No entre\n",
      "Juan saca la mascarilla de color verde de la bolsa\n",
      "Juan pongase la mascarilla\n"
     ]
    }
   ],
   "source": [
    "if juanito.mascarilla_colocada:\n",
    "    print('Pase al super')\n",
    "else:\n",
    "    print('No entre')\n",
    "\n",
    "juanito.ponerse_mascarilla(color='verde')"
   ]
  },
  {
   "cell_type": "code",
   "execution_count": null,
   "id": "c76f4300",
   "metadata": {},
   "outputs": [],
   "source": []
  }
 ],
 "metadata": {
  "kernelspec": {
   "display_name": "Python 3 (ipykernel)",
   "language": "python",
   "name": "python3"
  },
  "language_info": {
   "codemirror_mode": {
    "name": "ipython",
    "version": 3
   },
   "file_extension": ".py",
   "mimetype": "text/x-python",
   "name": "python",
   "nbconvert_exporter": "python",
   "pygments_lexer": "ipython3",
   "version": "3.8.12"
  }
 },
 "nbformat": 4,
 "nbformat_minor": 5
}
