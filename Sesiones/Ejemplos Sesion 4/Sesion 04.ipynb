{
 "cells": [
  {
   "cell_type": "markdown",
   "id": "e7e5d34c",
   "metadata": {},
   "source": [
    "# Gestion de diccionarios"
   ]
  },
  {
   "cell_type": "code",
   "execution_count": 14,
   "id": "e38012e3",
   "metadata": {},
   "outputs": [
    {
     "name": "stdout",
     "output_type": "stream",
     "text": [
      "{'a': 1, 'b': 2, 'c': 3, 'd': 4}\n"
     ]
    }
   ],
   "source": [
    "dic = dict(zip('abcd',[1,2,3,4]))\n",
    "print(dic)"
   ]
  },
  {
   "cell_type": "code",
   "execution_count": 16,
   "id": "a092664a",
   "metadata": {},
   "outputs": [
    {
     "name": "stdout",
     "output_type": "stream",
     "text": [
      "dict_items([('a', 1), ('b', 2), ('c', 3), ('d', 4)])\n"
     ]
    }
   ],
   "source": [
    "items = dic.items()\n",
    "print(items)"
   ]
  },
  {
   "cell_type": "code",
   "execution_count": 17,
   "id": "863c1ebb",
   "metadata": {},
   "outputs": [
    {
     "name": "stdout",
     "output_type": "stream",
     "text": [
      "dict_keys(['a', 'b', 'c', 'd'])\n"
     ]
    }
   ],
   "source": [
    "keys= dic.keys()\n",
    "print(keys)"
   ]
  },
  {
   "cell_type": "code",
   "execution_count": 18,
   "id": "1b15e29b",
   "metadata": {},
   "outputs": [
    {
     "name": "stdout",
     "output_type": "stream",
     "text": [
      "dict_values([1, 2, 3, 4])\n"
     ]
    }
   ],
   "source": [
    "values= dic.values()\n",
    "print(values)"
   ]
  },
  {
   "cell_type": "code",
   "execution_count": 26,
   "id": "92b8dac7",
   "metadata": {},
   "outputs": [
    {
     "name": "stdout",
     "output_type": "stream",
     "text": [
      "{'a': 1, 'b': 1, 'c': 1, 'd': 1}\n"
     ]
    }
   ],
   "source": [
    "dic = dict.fromkeys(['a','b','c','d'],1)\n",
    "print(dic)"
   ]
  },
  {
   "cell_type": "code",
   "execution_count": 27,
   "id": "5d191781",
   "metadata": {},
   "outputs": [
    {
     "name": "stdout",
     "output_type": "stream",
     "text": [
      "1\n",
      "{'a': 1, 'c': 1, 'd': 1}\n"
     ]
    }
   ],
   "source": [
    "valor = dic.pop('b') \n",
    "print(valor)\n",
    "print(dic)"
   ]
  },
  {
   "cell_type": "code",
   "execution_count": 28,
   "id": "56e35f8f",
   "metadata": {},
   "outputs": [
    {
     "name": "stdout",
     "output_type": "stream",
     "text": [
      "{'a': 1, 'c': 1, 'd': 1, 'e': 5}\n"
     ]
    }
   ],
   "source": [
    "valor = dic.setdefault('e',5)\n",
    "print(dic)"
   ]
  },
  {
   "cell_type": "code",
   "execution_count": 1,
   "id": "11b58cf5",
   "metadata": {},
   "outputs": [],
   "source": [
    "palabra = \"Bienvenidos al lenguaje Python\"\n",
    "diccionario = dict()"
   ]
  },
  {
   "cell_type": "code",
   "execution_count": 4,
   "id": "b8fde9f7",
   "metadata": {},
   "outputs": [
    {
     "name": "stdout",
     "output_type": "stream",
     "text": [
      "{'B': 2, 'i': 4, 'e': 8, 'n': 8, 'v': 2, 'd': 2, 'o': 4, 's': 2, ' ': 6, 'a': 4, 'l': 4, 'g': 2, 'u': 2, 'j': 2, 'P': 2, 'y': 2, 't': 2, 'h': 2}\n"
     ]
    }
   ],
   "source": [
    "for d in palabra:\n",
    "    if d not in diccionario:\n",
    "        diccionario[d] = 1\n",
    "    else:\n",
    "        diccionario[d] = diccionario[d] + 1\n",
    "print(diccionario)"
   ]
  },
  {
   "cell_type": "code",
   "execution_count": 5,
   "id": "3dc52c95",
   "metadata": {},
   "outputs": [
    {
     "name": "stdout",
     "output_type": "stream",
     "text": [
      "{'B': 1, 'i': 2, 'e': 4, 'n': 4, 'v': 1, 'd': 1, 'o': 2, 's': 1, ' ': 3, 'a': 2, 'l': 2, 'g': 1, 'u': 1, 'j': 1, 'P': 1, 'y': 1, 't': 1, 'h': 1}\n"
     ]
    }
   ],
   "source": [
    "diccionarioV2 = dict()\n",
    "for c in palabra:\n",
    "    diccionarioV2[c] = diccionarioV2.get(c, 0) + 1\n",
    "print(diccionarioV2)"
   ]
  },
  {
   "cell_type": "code",
   "execution_count": 9,
   "id": "29b24f7c",
   "metadata": {},
   "outputs": [
    {
     "name": "stdout",
     "output_type": "stream",
     "text": [
      "chuck 1\n",
      "annie 42\n",
      "jhon 100\n",
      "jane 5\n"
     ]
    }
   ],
   "source": [
    "contadores = { 'chuck' : 1 , 'annie' : 42, 'jhon': 100, 'jane': 5}\n",
    "for clave in contadores:\n",
    "    print(clave, contadores[clave])"
   ]
  },
  {
   "cell_type": "code",
   "execution_count": 7,
   "id": "be495a9d",
   "metadata": {},
   "outputs": [
    {
     "name": "stdout",
     "output_type": "stream",
     "text": [
      "annie 42\n",
      "jhon 100\n"
     ]
    }
   ],
   "source": [
    "for clave in contadores:\n",
    "    if contadores[clave] > 10 :\n",
    "        print(clave, contadores[clave])"
   ]
  },
  {
   "cell_type": "code",
   "execution_count": 10,
   "id": "b0da3abf",
   "metadata": {},
   "outputs": [
    {
     "name": "stdout",
     "output_type": "stream",
     "text": [
      "['chuck', 'annie', 'jhon', 'jane']\n",
      "annie 42\n",
      "chuck 1\n",
      "jane 5\n",
      "jhon 100\n"
     ]
    }
   ],
   "source": [
    "lst = list(contadores.keys())\n",
    "print(lst)\n",
    "lst.sort()\n",
    "for clave in lst:\n",
    "    print(clave, contadores[clave])"
   ]
  },
  {
   "cell_type": "code",
   "execution_count": 12,
   "id": "dca6f41c",
   "metadata": {},
   "outputs": [
    {
     "name": "stdout",
     "output_type": "stream",
     "text": [
      "Ingresa el nombre de archivo: EjemploArchivo.txt\n",
      "{'while': 1, 'the': 16, 'python': 10, 'language': 2, 'reference': 2, 'describes': 3, 'exact': 1, 'syntax': 1, 'and': 5, 'semantics': 1, 'of': 9, 'this': 1, 'library': 6, 'manual': 1, 'standard': 4, 'that': 6, 'is': 4, 'distributed': 1, 'with': 2, 'it': 2, 'also': 2, 'some': 3, 'optional': 2, 'components': 4, 'are': 2, 'commonly': 1, 'included': 1, 'in': 5, 'distributions': 1, 'pythonâ€™s': 1, 'very': 1, 'extensive': 1, 'offering': 1, 'a': 3, 'wide': 1, 'range': 1, 'facilities': 1, 'as': 5, 'indicated': 1, 'by': 2, 'long': 1, 'table': 1, 'contents': 1, 'listed': 1, 'below': 1, 'contains': 1, 'builtin': 1, 'modules': 4, 'written': 2, 'c': 1, 'provide': 2, 'access': 1, 'to': 7, 'system': 2, 'functionality': 1, 'such': 1, 'file': 1, 'io': 1, 'would': 1, 'otherwise': 1, 'be': 2, 'inaccessible': 1, 'programmers': 1, 'well': 1, 'standardized': 1, 'solutions': 1, 'for': 3, 'many': 2, 'problems': 1, 'occur': 1, 'everyday': 1, 'programming': 1, 'these': 1, 'explicitly': 1, 'designed': 1, 'encourage': 1, 'enhance': 1, 'portability': 1, 'programs': 2, 'abstracting': 1, 'away': 1, 'platformspecifics': 1, 'into': 1, 'platformneutral': 1, 'apis': 1, 'installers': 1, 'windows': 1, 'platform': 1, 'usually': 1, 'include': 2, 'entire': 2, 'often': 1, 'additional': 1, 'unixlike': 1, 'operating': 2, 'systems': 1, 'normally': 1, 'provided': 2, 'collection': 2, 'packages': 2, 'so': 1, 'may': 1, 'necessary': 1, 'use': 1, 'packaging': 1, 'tools': 1, 'obtain': 1, 'or': 1, 'all': 1, 'addition': 1, 'there': 1, 'growing': 1, 'several': 1, 'thousand': 1, 'from': 2, 'individual': 1, 'application': 1, 'development': 1, 'frameworks': 1, 'available': 1, 'package': 1, 'index': 1}\n"
     ]
    }
   ],
   "source": [
    "import string\n",
    "\n",
    "fname = input('Ingresa el nombre de archivo: ')\n",
    "try:\n",
    "    fhand = open(fname)\n",
    "except:\n",
    "    print('El archivo no se puede abrir:', fname)\n",
    "    exit()\n",
    "\n",
    "counts = dict()\n",
    "for line in fhand:\n",
    "    line = line.rstrip()\n",
    "    line = line.translate(line.maketrans('', '', string.punctuation))\n",
    "    line = line.lower()\n",
    "    words = line.split()\n",
    "    for word in words:\n",
    "        if word not in counts:\n",
    "            counts[word] = 1\n",
    "        else:\n",
    "            counts[word] += 1\n",
    "\n",
    "print(counts)"
   ]
  }
 ],
 "metadata": {
  "kernelspec": {
   "display_name": "Python 3 (ipykernel)",
   "language": "python",
   "name": "python3"
  },
  "language_info": {
   "codemirror_mode": {
    "name": "ipython",
    "version": 3
   },
   "file_extension": ".py",
   "mimetype": "text/x-python",
   "name": "python",
   "nbconvert_exporter": "python",
   "pygments_lexer": "ipython3",
   "version": "3.8.12"
  }
 },
 "nbformat": 4,
 "nbformat_minor": 5
}
