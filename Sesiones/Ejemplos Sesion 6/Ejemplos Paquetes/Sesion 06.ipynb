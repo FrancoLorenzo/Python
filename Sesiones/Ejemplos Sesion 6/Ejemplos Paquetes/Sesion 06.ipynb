{
 "cells": [
  {
   "cell_type": "code",
   "execution_count": 1,
   "id": "6b4d3652",
   "metadata": {},
   "outputs": [],
   "source": [
    "from calculos.utilidades import calculos\n",
    "from calculos.utilidades.impuestos import impuesto_iva14"
   ]
  },
  {
   "cell_type": "code",
   "execution_count": 2,
   "id": "ce84db23",
   "metadata": {},
   "outputs": [
    {
     "name": "stdout",
     "output_type": "stream",
     "text": [
      "Introduzca un monto entero: 100\n",
      "Introduzca un monto entero a sumar: 20\n"
     ]
    }
   ],
   "source": [
    "monto = int(input(\"Introduzca un monto entero: \"))\n",
    "monto_suma = int(input(\"Introduzca un monto entero a sumar: \"))"
   ]
  },
  {
   "cell_type": "code",
   "execution_count": 3,
   "id": "47fc6c36",
   "metadata": {},
   "outputs": [],
   "source": [
    "suma = impuesto_iva14(monto) + calculos.suma_total(monto_suma)"
   ]
  },
  {
   "cell_type": "code",
   "execution_count": 8,
   "id": "bdcbc15c",
   "metadata": {},
   "outputs": [
    {
     "name": "stdout",
     "output_type": "stream",
     "text": [
      "Total a Facturar: 54.0 colones, con IVA 14%.\n"
     ]
    }
   ],
   "source": [
    "print(\"Total a Facturar: {0} colones, con IVA 14%.\".format(suma))"
   ]
  },
  {
   "cell_type": "markdown",
   "id": "38f1c0d8",
   "metadata": {},
   "source": [
    "# Instalación del paquete"
   ]
  },
  {
   "cell_type": "code",
   "execution_count": null,
   "id": "94a73805",
   "metadata": {},
   "outputs": [],
   "source": [
    "#Abrir en el command o terminal la ruta donde se encuentra el paquete\n",
    "#python setup.py sdist"
   ]
  },
  {
   "cell_type": "code",
   "execution_count": 7,
   "id": "8347ba45",
   "metadata": {},
   "outputs": [
    {
     "name": "stdout",
     "output_type": "stream",
     "text": [
      "Processing c:\\users\\maricel\\desktop\\python-basico\\sesion 06\\dist\\calculos-0.1.tar.gz\n",
      "Building wheels for collected packages: calculos\n",
      "  Building wheel for calculos (setup.py): started\n",
      "  Building wheel for calculos (setup.py): finished with status 'done'\n",
      "  Created wheel for calculos: filename=calculos-0.1-py3-none-any.whl size=2351 sha256=c48ee75197c2c0478ace8fafff840fa7f0736d6dbc39ca2d9d7834e8532a43c1\n",
      "  Stored in directory: c:\\users\\maricel\\appdata\\local\\pip\\cache\\wheels\\8f\\2d\\f7\\e734fd8170918dbe050d86dc8f4eb83ce0bb879818de967300\n",
      "Successfully built calculos\n",
      "Installing collected packages: calculos\n",
      "  Attempting uninstall: calculos\n",
      "    Found existing installation: calculos 0.1\n",
      "    Uninstalling calculos-0.1:\n",
      "      Successfully uninstalled calculos-0.1\n",
      "Successfully installed calculos-0.1\n",
      "Note: you may need to restart the kernel to use updated packages.\n"
     ]
    },
    {
     "name": "stderr",
     "output_type": "stream",
     "text": [
      "DEPRECATION: Source distribution is being reinstalled despite an installed package having the same name and version as the installed package. pip 21.1 will remove support for this functionality. A possible replacement is use --force-reinstall. You can find discussion regarding this at https://github.com/pypa/pip/issues/8711.\n"
     ]
    }
   ],
   "source": [
    "pip install dist\\\\calculos-0.1.tar.gz"
   ]
  },
  {
   "cell_type": "code",
   "execution_count": 26,
   "id": "016d18a1",
   "metadata": {},
   "outputs": [],
   "source": [
    "import calculos.utilidades.impuestos as imp\n",
    "import calculos.utilidades.calculos as cal"
   ]
  },
  {
   "cell_type": "code",
   "execution_count": 27,
   "id": "f8fc870c",
   "metadata": {},
   "outputs": [
    {
     "data": {
      "text/plain": [
       "['__builtins__',\n",
       " '__cached__',\n",
       " '__doc__',\n",
       " '__file__',\n",
       " '__loader__',\n",
       " '__name__',\n",
       " '__package__',\n",
       " '__spec__',\n",
       " 'suma_total']"
      ]
     },
     "execution_count": 27,
     "metadata": {},
     "output_type": "execute_result"
    }
   ],
   "source": [
    "dir(cal)"
   ]
  },
  {
   "cell_type": "code",
   "execution_count": 28,
   "id": "cfa9b533",
   "metadata": {},
   "outputs": [
    {
     "data": {
      "text/plain": [
       "['__builtins__',\n",
       " '__cached__',\n",
       " '__doc__',\n",
       " '__file__',\n",
       " '__loader__',\n",
       " '__name__',\n",
       " '__package__',\n",
       " '__spec__',\n",
       " 'impuesto_iva12',\n",
       " 'impuesto_iva14']"
      ]
     },
     "execution_count": 28,
     "metadata": {},
     "output_type": "execute_result"
    }
   ],
   "source": [
    "dir(imp)"
   ]
  },
  {
   "cell_type": "code",
   "execution_count": 29,
   "id": "c5b77511",
   "metadata": {},
   "outputs": [
    {
     "name": "stdout",
     "output_type": "stream",
     "text": [
      "Help on module calculos.utilidades.calculos in calculos.utilidades:\n",
      "\n",
      "NAME\n",
      "    calculos.utilidades.calculos - Módulo para cálculos diversos\n",
      "\n",
      "FUNCTIONS\n",
      "    suma_total(monto=0)\n",
      "        Calcula la suma total\n",
      "\n",
      "FILE\n",
      "    c:\\users\\maricel\\desktop\\python-basico\\sesion 06\\calculos\\utilidades\\calculos.py\n",
      "\n",
      "\n"
     ]
    }
   ],
   "source": [
    "help(cal)"
   ]
  },
  {
   "cell_type": "code",
   "execution_count": 30,
   "id": "49e9f648",
   "metadata": {},
   "outputs": [
    {
     "name": "stdout",
     "output_type": "stream",
     "text": [
      "Help on module calculos.utilidades.impuestos in calculos.utilidades:\n",
      "\n",
      "NAME\n",
      "    calculos.utilidades.impuestos - Módulo para cálculos de diversos impuestos\n",
      "\n",
      "FUNCTIONS\n",
      "    impuesto_iva12(monto=0)\n",
      "        Calcula el impuesto del IVA de 12 %\n",
      "    \n",
      "    impuesto_iva14(monto=0)\n",
      "        Calcula el impuesto del IVA de 14 %\n",
      "\n",
      "FILE\n",
      "    c:\\users\\maricel\\desktop\\python-basico\\sesion 06\\calculos\\utilidades\\impuestos.py\n",
      "\n",
      "\n"
     ]
    }
   ],
   "source": [
    "help(imp)"
   ]
  },
  {
   "cell_type": "code",
   "execution_count": 31,
   "id": "94ebdf56",
   "metadata": {},
   "outputs": [
    {
     "name": "stdout",
     "output_type": "stream",
     "text": [
      "Introduzca un monto entero: 1000\n",
      "Introduzca un monto entero a sumar: 5\n"
     ]
    }
   ],
   "source": [
    "monto = int(input(\"Introduzca un monto entero: \"))\n",
    "monto_suma = int(input(\"Introduzca un monto entero a sumar: \"))"
   ]
  },
  {
   "cell_type": "code",
   "execution_count": 32,
   "id": "7da25bfe",
   "metadata": {},
   "outputs": [],
   "source": [
    "suma = imp.impuesto_iva14(monto) + cal.suma_total(monto_suma)"
   ]
  },
  {
   "cell_type": "code",
   "execution_count": 33,
   "id": "f1004f32",
   "metadata": {},
   "outputs": [
    {
     "name": "stdout",
     "output_type": "stream",
     "text": [
      "Total a Facturar: 165.0 colones, con IVA 14%.\n"
     ]
    }
   ],
   "source": [
    "print(\"Total a Facturar: {0} colones, con IVA 14%.\".format(suma))"
   ]
  },
  {
   "cell_type": "code",
   "execution_count": 6,
   "id": "93774b62",
   "metadata": {},
   "outputs": [
    {
     "name": "stdout",
     "output_type": "stream",
     "text": [
      "^C\n",
      "Note: you may need to restart the kernel to use updated packages.\n"
     ]
    }
   ],
   "source": [
    "#pip uninstall calculos"
   ]
  }
 ],
 "metadata": {
  "kernelspec": {
   "display_name": "Python 3 (ipykernel)",
   "language": "python",
   "name": "python3"
  },
  "language_info": {
   "codemirror_mode": {
    "name": "ipython",
    "version": 3
   },
   "file_extension": ".py",
   "mimetype": "text/x-python",
   "name": "python",
   "nbconvert_exporter": "python",
   "pygments_lexer": "ipython3",
   "version": "3.8.12"
  }
 },
 "nbformat": 4,
 "nbformat_minor": 5
}
