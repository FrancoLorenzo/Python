{
 "cells": [
  {
   "cell_type": "markdown",
   "metadata": {},
   "source": [
    "# Tarea# 2 - Franco Lorenzo"
   ]
  },
  {
   "cell_type": "markdown",
   "metadata": {},
   "source": [
    "## 1. Escriba un programa que almacene en una variable X una lista obtenida con la función range(1, 4) de 20 elementos."
   ]
  },
  {
   "cell_type": "code",
   "execution_count": 3,
   "metadata": {},
   "outputs": [
    {
     "name": "stdout",
     "output_type": "stream",
     "text": [
      "La lista del ejercicio 1 es: [73, 4, 33, 27, 16, 95, 75, 20, 96, 5, 94, 85, 55, 72, 66, 1, 77, 28, 18, 50]\n"
     ]
    }
   ],
   "source": [
    "import numpy as np\n",
    "import random\n",
    "\n",
    "# Almacenar lista de numeros aleatorios en variable x \n",
    "x = random.sample(range(1, 100), 20)\n",
    "\n",
    "print(f\"La lista del ejercicio 1 es: {x}\")\n",
    "\n",
    "# Nota:\n",
    "# El rango de la secuencia final no debe ser igual o menor que la cantidad de elementos, la funcion random.sample(range(1, 4), 20) genera el siguiente error:\n",
    "#\n",
    "# ~\\AppData\\Local\\Programs\\Python\\Python310\\lib\\random.py in sample(self, population, k, counts)\n",
    "#     480         randbelow = self._randbelow\n",
    "#     481         if not 0 <= k <= n:\n",
    "# --> 482             raise ValueError(\"Sample larger than population or is negative\")\n",
    "#     483         result = [None] * k\n",
    "#     484         setsize = 21        # size of a small set minus size of an empty list\n",
    "\n",
    "# ValueError: Sample larger than population or is negative\n",
    "#\n",
    "# Solucion: Modificar el rango para que sea mayor a 20, en este caso se utiliza un rango de 1 a 100."
   ]
  },
  {
   "cell_type": "markdown",
   "metadata": {},
   "source": [
    "## 2. Escriba un ciclo FOR para buscar el número máximo de la siguiente lista e imprímalo.\n",
    "\n",
    "    a. Lista = [44, 11, 15, 29, 53, 30]"
   ]
  },
  {
   "cell_type": "code",
   "execution_count": 100,
   "metadata": {},
   "outputs": [
    {
     "name": "stdout",
     "output_type": "stream",
     "text": [
      "El número mayor de la lista [44, 11, 15, 29, 53, 30] es: 53\n"
     ]
    }
   ],
   "source": [
    "# Declarar la lista de numeros e inicializar variable temporal para compar cual número es mayor\n",
    "lista = [44, 11, 15, 29, 53, 30]\n",
    "numMayor = 0\n",
    "\n",
    "# Recorrer la lista y comparar los números\n",
    "for i in lista:\n",
    "    if i > numMayor:\n",
    "        numMayor = i\n",
    "        \n",
    "print(f\"El número mayor de la lista {lista} es: {numMayor}.\")"
   ]
  },
  {
   "cell_type": "markdown",
   "metadata": {},
   "source": [
    "## 3. Escriba una función que reciba una lista y un valor y devuelva la cantidad de veces que aparece ese valor en la lista.\n",
    "    a. Lista = [1,4,2,3,5,1,4,2,3,6,1,7,1,3,5,1,1,5,3,2]\n",
    "    b. Valor = 2"
   ]
  },
  {
   "cell_type": "code",
   "execution_count": 111,
   "metadata": {},
   "outputs": [
    {
     "name": "stdout",
     "output_type": "stream",
     "text": [
      "La lista [1, 4, 2, 3, 5, 1, 4, 2, 3, 6, 1, 7, 1, 3, 5, 1, 1, 5, 3, 2] contiene 3 veces el valor 2.\n"
     ]
    }
   ],
   "source": [
    "# Declarar la lista y valor a enviar a la función\n",
    "lista2 = [1,4,2,3,5,1,4,2,3,6,1,7,1,3,5,1,1,5,3,2]\n",
    "valor = 2\n",
    "\n",
    "# Definir función que receiva lista2 y valor e identifique cuantas veces aparece el valor en la lista2\n",
    "def mi_funcion(val, lis):\n",
    "  \n",
    "  # Declarar un contador vacío, interar los valores de lis, e imprimir cuantas veces aparece el valor\n",
    "  contador = 0\n",
    "  for i in lis:\n",
    "    if i == val:\n",
    "        contador = contador + 1\n",
    "\n",
    "  print(f\"La lista {lis} contiene {contador} veces el valor {val}.\")\n",
    "\n",
    "# Llamar a mi_funcion e incluir lista2 y valor como argumentos\n",
    "mi_funcion(valor, lista2)"
   ]
  },
  {
   "cell_type": "markdown",
   "metadata": {},
   "source": [
    "## 4. Juan va al super a comprar sus productos. Escriba el código para resolver los siguientes puntos:\n",
    "    a. En un diccionario escriba las compras de Juan.\n",
    "        i. Pan: 400\n",
    "        ii. Queso: 500\n",
    "        iii. Leche: 700\n",
    "        iv. Salsa: 1000\n",
    "        v. Jamón: 350\n",
    "        vi. Vegetales: 1350\n",
    "    b. El precio de los vegetales tiene un 15% de descuento, actualice el valor.\n",
    "    c. Genere en una variable el total de la compra de Juan"
   ]
  },
  {
   "cell_type": "code",
   "execution_count": 98,
   "metadata": {},
   "outputs": [
    {
     "name": "stdout",
     "output_type": "stream",
     "text": [
      "El total de la compra de Juan es de 4097.5.\n"
     ]
    }
   ],
   "source": [
    "# Declarar diccionario que contenga las compras de Juan\n",
    "compras = {\n",
    "  \"Pan\": 400,\n",
    "  \"Queso\": 500,\n",
    "  \"Leche\": 700,\n",
    "  \"Salsa\": 1000,\n",
    "  \"Jamón\": 350,\n",
    "  \"Vegetales\": 1350\n",
    "}\n",
    "\n",
    "# Obtener el valor de los vegetales y aplicar 15% de descuento\n",
    "descuento = (compras.get(\"Vegetales\")) - (compras.get(\"Vegetales\") * 0.15)\n",
    "compras.update( {\"Vegetales\": descuento} )\n",
    "\n",
    "# Imprimir el total de la compra de Juan con el 15% de descuento aplicado a los vegetales\n",
    "totalAPagar = sum(compras.values())\n",
    "print(f\"El total de la compra de Juan es de {totalAPagar}.\")\n"
   ]
  },
  {
   "cell_type": "markdown",
   "metadata": {},
   "source": [
    "## 5. Realice el cálculo del área de un círculo, de un triángulo y de un cuadrado."
   ]
  },
  {
   "cell_type": "code",
   "execution_count": 110,
   "metadata": {},
   "outputs": [
    {
     "name": "stdout",
     "output_type": "stream",
     "text": [
      "El área del circulo de radio 0.5 es: 0.7853981633974483.\n",
      "El área del triángulo de base 2 y altura 3 es: 3.0.\n",
      "El área del cuadrado de lado 2 es: 4.\n"
     ]
    }
   ],
   "source": [
    "# Importar libreria math para utilizar el valor de Pi.\n",
    "import math\n",
    "\n",
    "# Definir funciones para el cálculo de las áreas de un círculo, triángulo, y cuadrado. Deben recibir parametros e imprimir el área correspondiente. \n",
    "def areaCirculo(radio):\n",
    "    areaCirculo = math.pi * (radio **2)\n",
    "    print(f\"El área del circulo de radio {radio} es: {areaCirculo}.\")\n",
    "\n",
    "def areaTriangulo(base, altura):\n",
    "    areaTriangulo = ( base * altura ) / 2\n",
    "    print(f\"El área del triángulo de base {base} y altura {altura} es: {areaTriangulo}.\")\n",
    "\n",
    "def areaCuadrado(lado):\n",
    "    areaCuadrdo = lado ** 2\n",
    "    print(f\"El área del cuadrado de lado {lado} es: {areaCuadrdo}.\")\n",
    "\n",
    "# Llamar funciones e incluir argumentos para el cálculo de las áreas correspondientes. \n",
    "areaCirculo(0.5)\n",
    "areaTriangulo(2, 3)\n",
    "areaCuadrado(2)"
   ]
  }
 ],
 "metadata": {
  "interpreter": {
   "hash": "bdd3a57b6cdf6db47e9f50f57b3e927b486ceba2df79490d0923cbea64e31dc7"
  },
  "kernelspec": {
   "display_name": "Python 3.10.0 64-bit",
   "name": "python3"
  },
  "language_info": {
   "codemirror_mode": {
    "name": "ipython",
    "version": 3
   },
   "file_extension": ".py",
   "mimetype": "text/x-python",
   "name": "python",
   "nbconvert_exporter": "python",
   "pygments_lexer": "ipython3",
   "version": "3.10.0"
  },
  "orig_nbformat": 4
 },
 "nbformat": 4,
 "nbformat_minor": 2
}
