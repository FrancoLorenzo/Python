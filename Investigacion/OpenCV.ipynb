{
 "cells": [
  {
   "cell_type": "markdown",
   "metadata": {},
   "source": [
    "# OpenCV - Introducción"
   ]
  },
  {
   "cell_type": "markdown",
   "metadata": {},
   "source": [
    "## ¿Qué es OpenCV? \n",
    "\n",
    "**OpenCV** (Open Source Computer Vision) es la biblioteca de código abierto más grande que existe en términos de funciones, cuenta con más de 2,500 algoritmos. Comenzó como un proyecto de investigación en Intel. Su primer versión OpenCV 1.0 se lanzó en 2006 y la comunidad de OpenCV ha crecido a pasos agigantados desde entonces. Esta biblioteca soporta interfaces para lenguajes de programación como Python, Java y C++.\n",
    "\n",
    "OpenCV utiliza imágenes para realizar operaciones de visión de computadora. Una imagen es una matriz donde la biblioteca Numpy contiene píxeles de puntos de datos. Cuanto mayor sea el número de píxeles en una imagen, mejor es su resolución. Los píxeles son pequeños bloques de información dispuestos en forma de una cuadrícula 2D. Para ser procesado por una computadora, una imagen debe convertirse en una forma binaria. \n",
    "\n",
    "El color de una imagen se puede calcular de la siguiente manera:\n",
    "\n",
    "![Imagen binaria](img/imagen-binaria.png)\n",
    "\n",
    "Las imágenes en color se representan como una combinación de *rojo*, *azul* y *verde*, y todos los demás colores se pueden lograr mezclando estos colores primarios en las proporciones correctas.\n",
    "\n",
    "![Imagen de colores ](img/imagen-colores.png)"
   ]
  },
  {
   "cell_type": "markdown",
   "metadata": {},
   "source": [
    "## ¿Cuáles son sus métodos y funciones principales?\n",
    "\n",
    "La siguiente tabla muestra los módulos principales de OpenCV:\n",
    "\n",
    "| Funcionalidad    | Módulo    | Descripción    |\n",
    "| :---        |    :----:   | :---        |\n",
    "| Funcionalidad principal      | **core**      | Define las estructuras de datos básicas. Por ejemplo, la matriz multidimensional Mat (multi-dimensional array Mat).      |\n",
    "| Procesamiento de imágenes      | **imgproc**      | Asiste con el procesamiento de imágenes. Incluye filtrado de imágenes lineales y no lineales, transformaciones geométricas de imágenes (cambio de tamaño, deformación afín y perspectiva, reasignación genérica basada en tablas), conversión de espacio de color, histogramas, entre otros.      |\n",
    "| Análisis de video      | **video**      | Incluye estimación de movimiento, sustracción de fondo y algoritmos de seguimiento de objetos.      |\n",
    "| Camera Calibración de cámara y reconstrucción en 3D      | **calib3d**      | Incluye algoritmos básicos de geometría de múltiples vistas, calibración de cámara única y estéreo, estimación de pose de objeto, algoritmos de correspondencia estéreo y elementos de reconstrucción 3D.      |\n",
    "| Características 2D      | **features2d**      | Incluye detectores de características destacadas, descriptores y comparadores de descriptores.     |\n",
    "| Detección de objetos      | **objdetect**      | Incluye detección de objetos e instancias de las clases predefinidas. Por ejemplo, rostros, ojos, tazas, personas, automóviles, entre otros.     |\n",
    "| Interfaz gráfica de alto nivel      | **highgui**      | Aporta una interfaz para funciones de usuario.      |\n",
    "| Entrada y salida de video      | **videoio**      | Aporta una interfaz para la captura de video y códecs de video.      |\n",
    "\n",
    "**Nota:** Existen otros módulos auxiliares como *FLANN*, *Google test wrappers*, o *Python bindings*. Visite [OpenCV](https://docs.opencv.org/master/modules.html) para obtener más información acerca de los módulos que ofrece OpenCV. "
   ]
  },
  {
   "cell_type": "markdown",
   "metadata": {},
   "source": [
    "# OpenCV - Instalación"
   ]
  },
  {
   "cell_type": "markdown",
   "metadata": {},
   "source": [
    "## ¿Como se instala OpenCV?\n",
    "Ejecute el comando de instalación. Si desea descargar el archivo de la librería u obtener más información sobre las últimas actualizaciones, visite [OpenCV-Python](https://pypi.org/project/opencv-python/)"
   ]
  },
  {
   "cell_type": "code",
   "execution_count": null,
   "metadata": {},
   "outputs": [],
   "source": [
    "!pip install opencv-python"
   ]
  },
  {
   "cell_type": "markdown",
   "metadata": {},
   "source": [
    "**Nota:** Para utilizar **OpenCV** de forma óptima, instale las bibliotecas **Numpy** y **Matplotlib** con los siguientes comandos: "
   ]
  },
  {
   "cell_type": "code",
   "execution_count": null,
   "metadata": {},
   "outputs": [],
   "source": [
    "!pip install numpy\n",
    "!pip install matplotlib"
   ]
  },
  {
   "cell_type": "markdown",
   "metadata": {},
   "source": [
    "# OpenCV - Uso"
   ]
  },
  {
   "cell_type": "markdown",
   "metadata": {},
   "source": [
    "## Este pequeño tutorial mostrará como realizar las siguientes operaciones simples con imágenes:\n",
    "1. Abrir y guardar imágenes.\n",
    "2. Dibujar formas simples en imágenes.\n",
    "3. Escribir en imágenes."
   ]
  },
  {
   "cell_type": "markdown",
   "metadata": {},
   "source": [
    "## Abrir y guardar imágenes"
   ]
  },
  {
   "cell_type": "code",
   "execution_count": null,
   "metadata": {},
   "outputs": [],
   "source": [
    "import cv2\n",
    "import numpy as np\n",
    "\n",
    "# Cargar a la imagen en la variable img\n",
    "# La función imread espera dos valores: la dirección de la imagen y como se espera cargar la imagen: 1 = BGR (colores), 0 = Blanco y negro, \n",
    "imagen = cv2.imread('img/imagen1.jpg', 0)\n",
    "type(imagen)\n",
    "\n",
    "# Desplegar la imagen\n",
    "cv2.imshow('Image', imagen)\n",
    "\n",
    "# Definir el tiempo de espera de la ventana. 0 espera de forma indefinida.\n",
    "cv2.waitKey(0)\n",
    "\n",
    "# Cierre de la ventana\n",
    "cv2.destroyAllWindows()\n",
    "\n",
    "# Guardar imagen actualizada\n",
    "cv2.imwrite('img/ImagenActualizada.png', imagen)"
   ]
  },
  {
   "cell_type": "markdown",
   "metadata": {},
   "source": [
    "## Dibujar formas simples en imágenes"
   ]
  },
  {
   "cell_type": "markdown",
   "metadata": {},
   "source": []
  },
  {
   "cell_type": "code",
   "execution_count": null,
   "metadata": {},
   "outputs": [],
   "source": [
    "import numpy as np\n",
    "import matplotlib.pyplot as plt\n",
    "%matplotlib inline\n",
    "import cv2\n",
    "\n",
    "# Cargar una imagen vacia\n",
    "imgBlanco = np.zeros(shape=(512, 512,3), dtype = np.int16)\n",
    "plt.imshow(imgBlanco)\n",
    "\n",
    "# Dibujar formas simples\n",
    "# Línea diagonal roja con 5px de grosor\n",
    "lineaRoja = cv2.line(imgBlanco,(0,0), (511,511), (255,0,0),5)\n",
    "plt.imshow(lineaRoja)"
   ]
  },
  {
   "cell_type": "code",
   "execution_count": null,
   "metadata": {},
   "outputs": [],
   "source": [
    "# Línea diagonal verde con 10px de grosor\n",
    "lineaVerde = cv2.line(imgBlanco,(511,0), (0,511), (0,255,0),10)\n",
    "plt.imshow(lineaVerde)"
   ]
  },
  {
   "cell_type": "code",
   "execution_count": null,
   "metadata": {},
   "outputs": [],
   "source": [
    "# Rectángulo azul con 5px de grosor\n",
    "rectangulo = cv2.rectangle(imgBlanco, (384,0), (510,128),(0,0,255),5)\n",
    "plt.imshow(rectangulo)"
   ]
  },
  {
   "cell_type": "code",
   "execution_count": null,
   "metadata": {},
   "outputs": [],
   "source": [
    "# Dibujar un círculo \n",
    "circulo = cv2.circle(imgBlanco,(447,63),63, (0,0,255), -1) # -1 corresponde al círculo relleno.\n",
    "\n",
    "plt.imshow(circulo)"
   ]
  },
  {
   "cell_type": "code",
   "execution_count": null,
   "metadata": {},
   "outputs": [],
   "source": [
    "# Escribir sobre imágenes\n",
    "fuente = cv2.FONT_HERSHEY_SIMPLEX\n",
    "#texto = cv2.putText(imgBlanco, 'OpenCV-Gracias por su atencion',(2,500), fuente, 0.95, (255,255,255), 2, cv2.LINE_AA)\n",
    "\n",
    "texto = cv2.putText(imgBlanco, 'OpenCV-Gracias por su atencion',(2,250), fuente, 0.95, (255,255,255), 2, cv2.LINE_AA)\n",
    "plt.imshow(texto)\n",
    "\n",
    "cv2.imwrite('img/ImagenDemo.png', imgBlanco)"
   ]
  }
 ],
 "metadata": {
  "interpreter": {
   "hash": "bdd3a57b6cdf6db47e9f50f57b3e927b486ceba2df79490d0923cbea64e31dc7"
  },
  "kernelspec": {
   "display_name": "Python 3.10.0 64-bit",
   "name": "python3"
  },
  "language_info": {
   "codemirror_mode": {
    "name": "ipython",
    "version": 3
   },
   "file_extension": ".py",
   "mimetype": "text/x-python",
   "name": "python",
   "nbconvert_exporter": "python",
   "pygments_lexer": "ipython3",
   "version": "3.10.0"
  },
  "orig_nbformat": 4
 },
 "nbformat": 4,
 "nbformat_minor": 2
}
